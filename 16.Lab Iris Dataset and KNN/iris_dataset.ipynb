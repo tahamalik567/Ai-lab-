{
 "cells": [
  {
   "cell_type": "markdown",
   "metadata": {},
   "source": [
    "# K The Iris Dataset"
   ]
  },
  {
   "cell_type": "markdown",
   "metadata": {},
   "source": [
    "Loading the dataset from local CSV file using pandas  "
   ]
  },
  {
   "cell_type": "code",
   "execution_count": 24,
   "metadata": {},
   "outputs": [
    {
     "name": "stdout",
     "output_type": "stream",
     "text": [
      "[[5.1 3.5 1.4 0.2 0 'setosa']\n",
      " [4.9 3.0 1.4 0.2 0 'setosa']\n",
      " [4.7 3.2 1.3 0.2 0 'setosa']\n",
      " [4.6 3.1 1.5 0.2 0 'setosa']\n",
      " [5.0 3.6 1.4 0.2 0 'setosa']\n",
      " [5.4 3.9 1.7 0.4 0 'setosa']\n",
      " [4.6 3.4 1.4 0.3 0 'setosa']\n",
      " [5.0 3.4 1.5 0.2 0 'setosa']\n",
      " [4.4 2.9 1.4 0.2 0 'setosa']\n",
      " [4.9 3.1 1.5 0.1 0 'setosa']\n",
      " [5.4 3.7 1.5 0.2 0 'setosa']\n",
      " [4.8 3.4 1.6 0.2 0 'setosa']\n",
      " [4.8 3.0 1.4 0.1 0 'setosa']\n",
      " [4.3 3.0 1.1 0.1 0 'setosa']\n",
      " [5.8 4.0 1.2 0.2 0 'setosa']\n",
      " [5.7 4.4 1.5 0.4 0 'setosa']\n",
      " [5.4 3.9 1.3 0.4 0 'setosa']\n",
      " [5.1 3.5 1.4 0.3 0 'setosa']\n",
      " [5.7 3.8 1.7 0.3 0 'setosa']\n",
      " [5.1 3.8 1.5 0.3 0 'setosa']\n",
      " [5.4 3.4 1.7 0.2 0 'setosa']\n",
      " [5.1 3.7 1.5 0.4 0 'setosa']\n",
      " [4.6 3.6 1.0 0.2 0 'setosa']\n",
      " [5.1 3.3 1.7 0.5 0 'setosa']\n",
      " [4.8 3.4 1.9 0.2 0 'setosa']\n",
      " [5.0 3.0 1.6 0.2 0 'setosa']\n",
      " [5.0 3.4 1.6 0.4 0 'setosa']\n",
      " [5.2 3.5 1.5 0.2 0 'setosa']\n",
      " [5.2 3.4 1.4 0.2 0 'setosa']\n",
      " [4.7 3.2 1.6 0.2 0 'setosa']\n",
      " [4.8 3.1 1.6 0.2 0 'setosa']\n",
      " [5.4 3.4 1.5 0.4 0 'setosa']\n",
      " [5.2 4.1 1.5 0.1 0 'setosa']\n",
      " [5.5 4.2 1.4 0.2 0 'setosa']\n",
      " [4.9 3.1 1.5 0.1 0 'setosa']\n",
      " [5.0 3.2 1.2 0.2 0 'setosa']\n",
      " [5.5 3.5 1.3 0.2 0 'setosa']\n",
      " [4.9 3.1 1.5 0.1 0 'setosa']\n",
      " [4.4 3.0 1.3 0.2 0 'setosa']\n",
      " [5.1 3.4 1.5 0.2 0 'setosa']\n",
      " [5.0 3.5 1.3 0.3 0 'setosa']\n",
      " [4.5 2.3 1.3 0.3 0 'setosa']\n",
      " [4.4 3.2 1.3 0.2 0 'setosa']\n",
      " [5.0 3.5 1.6 0.6 0 'setosa']\n",
      " [5.1 3.8 1.9 0.4 0 'setosa']\n",
      " [4.8 3.0 1.4 0.3 0 'setosa']\n",
      " [5.1 3.8 1.6 0.2 0 'setosa']\n",
      " [4.6 3.2 1.4 0.2 0 'setosa']\n",
      " [5.3 3.7 1.5 0.2 0 'setosa']\n",
      " [5.0 3.3 1.4 0.2 0 'setosa']\n",
      " [7.0 3.2 4.7 1.4 1 'versicolor']\n",
      " [6.4 3.2 4.5 1.5 1 'versicolor']\n",
      " [6.9 3.1 4.9 1.5 1 'versicolor']\n",
      " [5.5 2.3 4.0 1.3 1 'versicolor']\n",
      " [6.5 2.8 4.6 1.5 1 'versicolor']\n",
      " [5.7 2.8 4.5 1.3 1 'versicolor']\n",
      " [6.3 3.3 4.7 1.6 1 'versicolor']\n",
      " [4.9 2.4 3.3 1.0 1 'versicolor']\n",
      " [6.6 2.9 4.6 1.3 1 'versicolor']\n",
      " [5.2 2.7 3.9 1.4 1 'versicolor']\n",
      " [5.0 2.0 3.5 1.0 1 'versicolor']\n",
      " [5.9 3.0 4.2 1.5 1 'versicolor']\n",
      " [6.0 2.2 4.0 1.0 1 'versicolor']\n",
      " [6.1 2.9 4.7 1.4 1 'versicolor']\n",
      " [5.6 2.9 3.6 1.3 1 'versicolor']\n",
      " [6.7 3.1 4.4 1.4 1 'versicolor']\n",
      " [5.6 3.0 4.5 1.5 1 'versicolor']\n",
      " [5.8 2.7 4.1 1.0 1 'versicolor']\n",
      " [6.2 2.2 4.5 1.5 1 'versicolor']\n",
      " [5.6 2.5 3.9 1.1 1 'versicolor']\n",
      " [5.9 3.2 4.8 1.8 1 'versicolor']\n",
      " [6.1 2.8 4.0 1.3 1 'versicolor']\n",
      " [6.3 2.5 4.9 1.5 1 'versicolor']\n",
      " [6.1 2.8 4.7 1.2 1 'versicolor']\n",
      " [6.4 2.9 4.3 1.3 1 'versicolor']\n",
      " [6.6 3.0 4.4 1.4 1 'versicolor']\n",
      " [6.8 2.8 4.8 1.4 1 'versicolor']\n",
      " [6.7 3.0 5.0 1.7 1 'versicolor']\n",
      " [6.0 2.9 4.5 1.5 1 'versicolor']\n",
      " [5.7 2.6 3.5 1.0 1 'versicolor']\n",
      " [5.5 2.4 3.8 1.1 1 'versicolor']\n",
      " [5.5 2.4 3.7 1.0 1 'versicolor']\n",
      " [5.8 2.7 3.9 1.2 1 'versicolor']\n",
      " [6.0 2.7 5.1 1.6 1 'versicolor']\n",
      " [5.4 3.0 4.5 1.5 1 'versicolor']\n",
      " [6.0 3.4 4.5 1.6 1 'versicolor']\n",
      " [6.7 3.1 4.7 1.5 1 'versicolor']\n",
      " [6.3 2.3 4.4 1.3 1 'versicolor']\n",
      " [5.6 3.0 4.1 1.3 1 'versicolor']\n",
      " [5.5 2.5 4.0 1.3 1 'versicolor']\n",
      " [5.5 2.6 4.4 1.2 1 'versicolor']\n",
      " [6.1 3.0 4.6 1.4 1 'versicolor']\n",
      " [5.8 2.6 4.0 1.2 1 'versicolor']\n",
      " [5.0 2.3 3.3 1.0 1 'versicolor']\n",
      " [5.6 2.7 4.2 1.3 1 'versicolor']\n",
      " [5.7 3.0 4.2 1.2 1 'versicolor']\n",
      " [5.7 2.9 4.2 1.3 1 'versicolor']\n",
      " [6.2 2.9 4.3 1.3 1 'versicolor']\n",
      " [5.1 2.5 3.0 1.1 1 'versicolor']\n",
      " [5.7 2.8 4.1 1.3 1 'versicolor']\n",
      " [6.3 3.3 6.0 2.5 2 'virginica']\n",
      " [5.8 2.7 5.1 1.9 2 'virginica']\n",
      " [7.1 3.0 5.9 2.1 2 'virginica']\n",
      " [6.3 2.9 5.6 1.8 2 'virginica']\n",
      " [6.5 3.0 5.8 2.2 2 'virginica']\n",
      " [7.6 3.0 6.6 2.1 2 'virginica']\n",
      " [4.9 2.5 4.5 1.7 2 'virginica']\n",
      " [7.3 2.9 6.3 1.8 2 'virginica']\n",
      " [6.7 2.5 5.8 1.8 2 'virginica']\n",
      " [7.2 3.6 6.1 2.5 2 'virginica']\n",
      " [6.5 3.2 5.1 2.0 2 'virginica']\n",
      " [6.4 2.7 5.3 1.9 2 'virginica']\n",
      " [6.8 3.0 5.5 2.1 2 'virginica']\n",
      " [5.7 2.5 5.0 2.0 2 'virginica']\n",
      " [5.8 2.8 5.1 2.4 2 'virginica']\n",
      " [6.4 3.2 5.3 2.3 2 'virginica']\n",
      " [6.5 3.0 5.5 1.8 2 'virginica']\n",
      " [7.7 3.8 6.7 2.2 2 'virginica']\n",
      " [7.7 2.6 6.9 2.3 2 'virginica']\n",
      " [6.0 2.2 5.0 1.5 2 'virginica']\n",
      " [6.9 3.2 5.7 2.3 2 'virginica']\n",
      " [5.6 2.8 4.9 2.0 2 'virginica']\n",
      " [7.7 2.8 6.7 2.0 2 'virginica']\n",
      " [6.3 2.7 4.9 1.8 2 'virginica']\n",
      " [6.7 3.3 5.7 2.1 2 'virginica']\n",
      " [7.2 3.2 6.0 1.8 2 'virginica']\n",
      " [6.2 2.8 4.8 1.8 2 'virginica']\n",
      " [6.1 3.0 4.9 1.8 2 'virginica']\n",
      " [6.4 2.8 5.6 2.1 2 'virginica']\n",
      " [7.2 3.0 5.8 1.6 2 'virginica']\n",
      " [7.4 2.8 6.1 1.9 2 'virginica']\n",
      " [7.9 3.8 6.4 2.0 2 'virginica']\n",
      " [6.4 2.8 5.6 2.2 2 'virginica']\n",
      " [6.3 2.8 5.1 1.5 2 'virginica']\n",
      " [6.1 2.6 5.6 1.4 2 'virginica']\n",
      " [7.7 3.0 6.1 2.3 2 'virginica']\n",
      " [6.3 3.4 5.6 2.4 2 'virginica']\n",
      " [6.4 3.1 5.5 1.8 2 'virginica']\n",
      " [6.0 3.0 4.8 1.8 2 'virginica']\n",
      " [6.9 3.1 5.4 2.1 2 'virginica']\n",
      " [6.7 3.1 5.6 2.4 2 'virginica']\n",
      " [6.9 3.1 5.1 2.3 2 'virginica']\n",
      " [5.8 2.7 5.1 1.9 2 'virginica']\n",
      " [6.8 3.2 5.9 2.3 2 'virginica']\n",
      " [6.7 3.3 5.7 2.5 2 'virginica']\n",
      " [6.7 3.0 5.2 2.3 2 'virginica']\n",
      " [6.3 2.5 5.0 1.9 2 'virginica']\n",
      " [6.5 3.0 5.2 2.0 2 'virginica']\n",
      " [6.2 3.4 5.4 2.3 2 'virginica']\n",
      " [5.9 3.0 5.1 1.8 2 'virginica']]\n"
     ]
    }
   ],
   "source": [
    "import pandas as pd\n",
    "import numpy as np\n",
    "data2=np.matrix(pd.read_csv('iris.csv'))\n",
    "print(data2)"
   ]
  },
  {
   "cell_type": "markdown",
   "metadata": {},
   "source": [
    "Loading the dataset from CSV file using numpy"
   ]
  },
  {
   "cell_type": "code",
   "execution_count": 25,
   "metadata": {},
   "outputs": [],
   "source": [
    "X=np.loadtxt('iris.csv',\n",
    "skiprows=1,\n",
    "delimiter=\",\",\n",
    "usecols = (0,1,2,3,4),\n",
    "#comments = \"%\"\n",
    ")"
   ]
  },
  {
   "cell_type": "code",
   "execution_count": 26,
   "metadata": {
    "scrolled": false
   },
   "outputs": [
    {
     "data": {
      "text/plain": [
       "150"
      ]
     },
     "execution_count": 26,
     "metadata": {},
     "output_type": "execute_result"
    }
   ],
   "source": [
    "len(X)"
   ]
  },
  {
   "cell_type": "code",
   "execution_count": 27,
   "metadata": {},
   "outputs": [
    {
     "data": {
      "text/plain": [
       "numpy.ndarray"
      ]
     },
     "execution_count": 27,
     "metadata": {},
     "output_type": "execute_result"
    }
   ],
   "source": [
    "type(X)\n"
   ]
  },
  {
   "cell_type": "code",
   "execution_count": 28,
   "metadata": {},
   "outputs": [
    {
     "data": {
      "text/plain": [
       "(150, 5)"
      ]
     },
     "execution_count": 28,
     "metadata": {},
     "output_type": "execute_result"
    }
   ],
   "source": [
    "X.shape"
   ]
  },
  {
   "cell_type": "markdown",
   "metadata": {},
   "source": [
    "## Displaying a scatter plot "
   ]
  },
  {
   "cell_type": "code",
   "execution_count": 23,
   "metadata": {},
   "outputs": [
    {
     "data": {
      "text/plain": [
       "<matplotlib.collections.PathCollection at 0x19e2c067ee0>"
      ]
     },
     "execution_count": 23,
     "metadata": {},
     "output_type": "execute_result"
    },
    {
     "data": {
      "image/png": "[encoded data removed]",
      "text/plain": [
       "<Figure size 432x288 with 1 Axes>"
      ]
     },
     "metadata": {
      "needs_background": "light"
     },
     "output_type": "display_data"
    }
   ],
   "source": [
    "import matplotlib.pyplot as plt\n",
    "%matplotlib inline\n",
    "plt.scatter(X[:,1],X[:,2],c=y)\n"
   ]
  },
  {
   "cell_type": "code",
   "execution_count": null,
   "metadata": {},
   "outputs": [],
   "source": []
  }
 ],
 "metadata": {
  "kernelspec": {
   "display_name": "Python 3 (ipykernel)",
   "language": "python",
   "name": "python3"
  },
  "language_info": {
   "codemirror_mode": {
    "name": "ipython",
    "version": 3
   },
   "file_extension": ".py",
   "mimetype": "text/x-python",
   "name": "python",
   "nbconvert_exporter": "python",
   "pygments_lexer": "ipython3",
   "version": "3.9.12"
  }
 },
 "nbformat": 4,
 "nbformat_minor": 2
}
