{
 "cells": [
  {
   "cell_type": "markdown",
   "metadata": {},
   "source": [
    "# Problem formulation and uninformed search \n",
    "\n",
    "## Sliding Puzzle Example\n",
    "\n",
    "A sliding puzzle, sliding block puzzle, or sliding tile puzzle is a combination puzzle that challenges a player to slide (frequently flat) pieces along certain routes (usually on a board) to establish a certain end-configuration. The pieces to be moved may consist of simple shapes, or they may be imprinted with colors, patterns, sections of a larger picture (like a jigsaw puzzle), numbers, or letters.\n",
    "\n",
    "Rules of this game are very simple - we are sliding (←, →, ↑ , ↓) tiles to reach the final state in which all numbers are in order with ‘1’ in the top left corner of the board.\n",
    "\n",
    "<img src=\"slidingpuzzle.gif\" width=\"500\" />"
   ]
  },
  {
   "cell_type": "markdown",
   "metadata": {},
   "source": [
    "### State Representation\n",
    "\n",
    "Lets use a tuple of lenght 8 for state represntation. Using this representation scheme the followng state:\n",
    "\n",
    "0 1 2 \n",
    "\n",
    "3 4 5\n",
    "\n",
    "6 7 8\n",
    "\n",
    "\n",
    "is representate as the tuple:\n",
    "\n",
    "(0,1,2,3,4,5,6,7,8)\n",
    "\n",
    "Where 0 represents the blank position. \n",
    "\n",
    "The goal state and the inital states are representes as:"
   ]
  },
  {
   "cell_type": "code",
   "execution_count": 1,
   "metadata": {},
   "outputs": [],
   "source": [
    "goal = (1,2,3,4,5,6,7,8,0)\n",
    "start = (8,2,0,4,7,6,3,5,1)"
   ]
  },
  {
   "cell_type": "markdown",
   "metadata": {},
   "source": [
    "Lets create a function to that takes a tupe as an input state and shows the correspondig slidign puzzle state:"
   ]
  },
  {
   "cell_type": "code",
   "execution_count": 2,
   "metadata": {},
   "outputs": [],
   "source": [
    "def printstate(state):\n",
    "    \"\"\"\n",
    "    prints states in a 3x3 tabular form\n",
    "    \"\"\"\n",
    "    \n",
    "    print(state[0:3])\n",
    "    print(state[3:6])\n",
    "    print(state[6:9])\n",
    "    \n",
    "def printpuzzle(state):\n",
    "    \"\"\"\n",
    "    prints the puzzle state in a better looking form\n",
    "    \"\"\"\n",
    "\n",
    "    print('_______\\n|{}|{}|{}|\\n|{}|{}|{}|\\n|{}|{}|{}|\\n_______'.format(state[0],\n",
    "state[1],\n",
    "state[2],\n",
    "state[3],\n",
    "state[4],\n",
    "state[5],\n",
    "state[6],\n",
    "state[7],\n",
    "state[8],\n",
    "))"
   ]
  },
  {
   "cell_type": "code",
   "execution_count": 3,
   "metadata": {},
   "outputs": [
    {
     "name": "stdout",
     "output_type": "stream",
     "text": [
      "_______\n",
      "|8|2|0|\n",
      "|4|7|6|\n",
      "|3|5|1|\n",
      "_______\n"
     ]
    }
   ],
   "source": [
    "printpuzzle(start)\n"
   ]
  },
  {
   "cell_type": "markdown",
   "metadata": {},
   "source": [
    "The following function tests whether or not a state is goal state"
   ]
  },
  {
   "cell_type": "code",
   "execution_count": 4,
   "metadata": {},
   "outputs": [],
   "source": [
    "def goaltest(state, goal):\n",
    "    \"\"\"\n",
    "    Tests wheater the state is a goal state or not\n",
    "    \"\"\"\n",
    "    return state == goal"
   ]
  },
  {
   "cell_type": "code",
   "execution_count": 5,
   "metadata": {},
   "outputs": [
    {
     "name": "stdout",
     "output_type": "stream",
     "text": [
      "_______\n",
      "|1|0|2|\n",
      "|3|4|5|\n",
      "|6|7|8|\n",
      "_______\n"
     ]
    },
    {
     "data": {
      "text/plain": [
       "False"
      ]
     },
     "execution_count": 5,
     "metadata": {},
     "output_type": "execute_result"
    }
   ],
   "source": [
    "a = (1,0,2,3,4,5,6,7,8)\n",
    "\n",
    "printpuzzle(a)\n",
    "\n",
    "goaltest(a,goal)"
   ]
  },
  {
   "cell_type": "code",
   "execution_count": 6,
   "metadata": {},
   "outputs": [
    {
     "name": "stdout",
     "output_type": "stream",
     "text": [
      "_______\n",
      "|1|2|3|\n",
      "|4|5|6|\n",
      "|7|8|0|\n",
      "_______\n"
     ]
    },
    {
     "data": {
      "text/plain": [
       "True"
      ]
     },
     "execution_count": 6,
     "metadata": {},
     "output_type": "execute_result"
    }
   ],
   "source": [
    "b = (1,2,3,4,5,6,7,8,0)\n",
    "\n",
    "printpuzzle(b)\n",
    "\n",
    "goaltest(b,goal)"
   ]
  },
  {
   "cell_type": "markdown",
   "metadata": {},
   "source": [
    "### Transition model\n",
    "\n",
    "The following function implements the transition model. It requires an input state 'statein' and an action as inputs and returns the resulting state after performing the provided action. "
   ]
  },
  {
   "cell_type": "code",
   "execution_count": 7,
   "metadata": {},
   "outputs": [],
   "source": [
    "def result(statein,action):\n",
    "    \"\"\"\n",
    "    Returns the state produced as a result of performing 'action' \n",
    "    on the given state 'statein'\n",
    "    \"\"\"\n",
    "    stateout = list(statein) # # make a local copy of statein\n",
    "    \n",
    "    if action == 'Up':\n",
    "        idx = statein.index(0)\n",
    "        stateout[idx] = statein[idx-3]\n",
    "        stateout[idx-3] = 0\n",
    "        \n",
    "    elif action == 'Down':\n",
    "        idx = statein.index(0)\n",
    "        stateout[idx] = statein[idx+3]\n",
    "        stateout[idx+3] = 0\n",
    "\n",
    "    elif action == 'Left':\n",
    "        idx = statein.index(0)\n",
    "        stateout[idx] = statein[idx-1]\n",
    "        stateout[idx-1] = 0\n",
    "\n",
    "    elif action == 'Right':\n",
    "        idx = statein.index(0)\n",
    "        stateout[idx] = statein[idx+1]\n",
    "        stateout[idx+1] = 0\n",
    " \n",
    "    return tuple(stateout)"
   ]
  },
  {
   "cell_type": "code",
   "execution_count": 8,
   "metadata": {},
   "outputs": [
    {
     "name": "stdout",
     "output_type": "stream",
     "text": [
      "_______\n",
      "|1|0|2|\n",
      "|3|4|5|\n",
      "|6|7|8|\n",
      "_______\n",
      "_______\n",
      "|1|4|2|\n",
      "|3|0|5|\n",
      "|6|7|8|\n",
      "_______\n"
     ]
    }
   ],
   "source": [
    "printpuzzle(a) # prints puzzle>\n",
    "printpuzzle(result(a,'Down')) # prints the puzzle ofter 'Down' action"
   ]
  },
  {
   "cell_type": "markdown",
   "metadata": {},
   "source": [
    "### Finding the successor states (neighbors)\n",
    "\n",
    "The following function returns all successors of the input state by applying all possible actions at that state. Note the use of set built-in datatype."
   ]
  },
  {
   "cell_type": "code",
   "execution_count": 9,
   "metadata": {},
   "outputs": [],
   "source": [
    "def expand(state):\n",
    "    \"\"\"\n",
    "    Returns a list of successors of the 'state' by performing all\n",
    "    possible actions at the 'state'\n",
    "    \"\"\"\n",
    "    actions = []\n",
    "    successors = []\n",
    "    blank = state.index(0) # built in method of the list class\n",
    "    \n",
    "    if blank in {3,4,5,6,7,8}: # action 'Up' is possible if blank tile is on one of these locations\n",
    "        actions.append('Up') #append up in actions list\n",
    "    if blank in {0,1,2,3,4,5}:\n",
    "        actions.append('Down')\n",
    "    if blank in {1,2,4,5,7,8}:\n",
    "        actions.append('Left')\n",
    "    if blank in {0,1,3,4,6,7}:\n",
    "        actions.append('Right')\n",
    "    #print(actions)\n",
    "    for action in actions:\n",
    "        #print(action)\n",
    "        successors.append(result(state,action)) \n",
    "    \n",
    "    return successors\n"
   ]
  },
  {
   "cell_type": "code",
   "execution_count": 10,
   "metadata": {},
   "outputs": [
    {
     "name": "stdout",
     "output_type": "stream",
     "text": [
      "_______\n",
      "|1|0|2|\n",
      "|3|4|5|\n",
      "|6|7|8|\n",
      "_______\n"
     ]
    },
    {
     "data": {
      "text/plain": [
       "[(1, 4, 2, 3, 0, 5, 6, 7, 8),\n",
       " (0, 1, 2, 3, 4, 5, 6, 7, 8),\n",
       " (1, 2, 0, 3, 4, 5, 6, 7, 8)]"
      ]
     },
     "execution_count": 10,
     "metadata": {},
     "output_type": "execute_result"
    }
   ],
   "source": [
    "printpuzzle(a) \n",
    "expand(a) # "
   ]
  },
  {
   "cell_type": "code",
   "execution_count": 18,
   "metadata": {},
   "outputs": [],
   "source": [
    "class Node:\n",
    "    def __init__(self, state, parent=None, cost=0.0, heuristic=0.0):\n",
    "\n",
    "        self.state = state\n",
    "        self.parent = parent\n",
    "        self.cost = cost\n",
    "        self.heuristic = heuristic\n",
    "\n",
    "    def __lt__(self, other):\n",
    "        return (self.cost + self.heuristic) < (other.cost + other.heuristic)\n",
    "    \n",
    "    def __repr__(self):\n",
    "    \n",
    "        return f\"{self.state}\""
   ]
  },
  {
   "cell_type": "code",
   "execution_count": 19,
   "metadata": {},
   "outputs": [],
   "source": [
    "start = (0,1,2,3,4,5,6,7,8)\n",
    "a = Node(start,cost=20.0)\n",
    "another = (0,1,2,3,4,5,6,8,7)\n",
    "b = Node(another,start)"
   ]
  },
  {
   "cell_type": "code",
   "execution_count": 20,
   "metadata": {},
   "outputs": [
    {
     "data": {
      "text/plain": [
       "(0, 1, 2, 3, 4, 5, 6, 7, 8)"
      ]
     },
     "execution_count": 20,
     "metadata": {},
     "output_type": "execute_result"
    }
   ],
   "source": [
    "b.parent"
   ]
  },
  {
   "cell_type": "code",
   "execution_count": 21,
   "metadata": {},
   "outputs": [
    {
     "data": {
      "text/plain": [
       "(0, 1, 2, 3, 4, 5, 6, 7, 8)"
      ]
     },
     "execution_count": 21,
     "metadata": {},
     "output_type": "execute_result"
    }
   ],
   "source": [
    "a"
   ]
  },
  {
   "cell_type": "markdown",
   "metadata": {},
   "source": [
    " ### Depth First Search\n",
    "    \n",
    "    Lets implement the depth first serach for solving the sliding puzzle. \n",
    "    \n"
   ]
  },
  {
   "cell_type": "code",
   "execution_count": 22,
   "metadata": {},
   "outputs": [],
   "source": [
    "def dfsearch(start, goal):\n",
    "    \"\"\"\n",
    "    Performs depth first search.\n",
    "    start is the start state\n",
    "    goal is the goal state\n",
    "    \"\"\"    \n",
    "    explored = set() # initialize the explored list as a set\n",
    "    frontier = [Node(start)] # initializ the frontier as a list with the start state \n",
    "    #print('searching from: {} to {}'.format(orig, dest))\n",
    "    stepcount = 0\n",
    "    while frontier: #repeat while frontier is not empty\n",
    "        print('Frontier:', frontier) # print current contents of the frontier\n",
    "        # remove one state form the frontier andsoter \n",
    "        currentNode = frontier.pop() # pop() method removes and returns the last item\n",
    "        currentState = currentNode.state\n",
    "        stepcount += 1\n",
    "        print('Current state:', currentState) # print the current state\n",
    "        \n",
    "        # test wheter the current state is goal?\n",
    "        if goaltest(currentState, goal): \n",
    "            print('goal state reached')\n",
    "            return currentNode\n",
    "        \n",
    "        explored.add(currentState) #add the current state to expored list\n",
    "            \n",
    "        successors = expand(currentState)\n",
    "        for successor in successors:\n",
    "            if successor in explored or Node(successor,currentNode) in frontier:\n",
    "                continue\n",
    "            frontier.append(Node(successor,currentNode))\n",
    "        \n",
    "        if stepcount >20:\n",
    "            print(f\"Depth Limit of {stepcount} reached\")\n",
    "            return None\n",
    "    \n",
    "    print('failure')\n",
    "    return None"
   ]
  },
  {
   "cell_type": "markdown",
   "metadata": {},
   "source": [
    "Lets execute the DFS function with a simple initial state. "
   ]
  },
  {
   "cell_type": "code",
   "execution_count": 23,
   "metadata": {
    "scrolled": true
   },
   "outputs": [
    {
     "name": "stdout",
     "output_type": "stream",
     "text": [
      "Frontier: [(1, 2, 3, 4, 5, 6, 0, 7, 8)]\n",
      "Current state: (1, 2, 3, 4, 5, 6, 0, 7, 8)\n",
      "Frontier: [(1, 2, 3, 0, 5, 6, 4, 7, 8), (1, 2, 3, 4, 5, 6, 7, 0, 8)]\n",
      "Current state: (1, 2, 3, 4, 5, 6, 7, 0, 8)\n",
      "Frontier: [(1, 2, 3, 0, 5, 6, 4, 7, 8), (1, 2, 3, 4, 0, 6, 7, 5, 8), (1, 2, 3, 4, 5, 6, 7, 8, 0)]\n",
      "Current state: (1, 2, 3, 4, 5, 6, 7, 8, 0)\n",
      "goal state reached\n",
      "(1, 2, 3, 4, 5, 6, 7, 8, 0)\n"
     ]
    }
   ],
   "source": [
    "state = dfsearch((1,2,3,4,5,6,0,7,8), (1,2,3,4,5,6,7,8,0))\n",
    "print(state.state)\n"
   ]
  },
  {
   "cell_type": "code",
   "execution_count": 25,
   "metadata": {},
   "outputs": [
    {
     "name": "stdout",
     "output_type": "stream",
     "text": [
      "(1, 2, 3, 4, 5, 6, 7, 8, 0)\n",
      "(1, 2, 3, 4, 5, 6, 7, 0, 8)\n",
      "(1, 2, 3, 4, 5, 6, 0, 7, 8)\n"
     ]
    }
   ],
   "source": [
    "print(state)\n",
    "s = state\n",
    "while s.parent:\n",
    "    print(s.parent)\n",
    "    s = s.parent"
   ]
  },
  {
   "cell_type": "markdown",
   "metadata": {},
   "source": [
    "### Breadth First Search\n",
    "\n",
    "BFS uses a queue instead of a stack for the frointier. By changing the pop() method call to pop(0) changes the stack into a queue. There is not other change in the code. "
   ]
  },
  {
   "cell_type": "code",
   "execution_count": 26,
   "metadata": {},
   "outputs": [],
   "source": [
    "def bfsearch(start, goal):\n",
    "    \"\"\"\n",
    "    Performs breadth first search.\n",
    "    start is the start state\n",
    "    goal is the goal state\n",
    "    \"\"\"    \n",
    "    explored = set() # initialize the explored list as a set\n",
    "    frontier = [Node(start)] # initializ the frontier as a list with the start state \n",
    "    #print('searching from: {} to {}'.format(orig, dest))\n",
    "    stepcount = 0\n",
    "    while frontier: #repeat while frontier is not empty\n",
    "        print('Frontier:', frontier) # print current contents of the frontier\n",
    "        # remove one state form the frontier andsoter \n",
    "        currentNode = frontier.pop(0) # pop()  changed to pop(0)\n",
    "        currentState = currentNode.state\n",
    "        stepcount += 1\n",
    "        print('Current state:', currentState) # print the current state\n",
    "        \n",
    "        # test wheter the current state is goal?\n",
    "        if goaltest(currentState, goal): \n",
    "            print('goal state reached')\n",
    "            return currentNode\n",
    "        \n",
    "        explored.add(currentState) #add the current state to expored list\n",
    "            \n",
    "        successors = expand(currentState)\n",
    "        for successor in successors:\n",
    "            if successor in explored or Node(successor,currentNode) in frontier:\n",
    "                continue\n",
    "            frontier.append(Node(successor,currentNode))\n",
    "        \n",
    "        if stepcount >20:\n",
    "            print(f\"Depth Limit of {stepcount} reached\")\n",
    "            return None\n",
    "    \n",
    "    print('failure')\n",
    "    return None"
   ]
  },
  {
   "cell_type": "code",
   "execution_count": 27,
   "metadata": {
    "scrolled": false
   },
   "outputs": [
    {
     "name": "stdout",
     "output_type": "stream",
     "text": [
      "Frontier: [(1, 2, 3, 4, 5, 6, 0, 7, 8)]\n",
      "Current state: (1, 2, 3, 4, 5, 6, 0, 7, 8)\n",
      "Frontier: [(1, 2, 3, 0, 5, 6, 4, 7, 8), (1, 2, 3, 4, 5, 6, 7, 0, 8)]\n",
      "Current state: (1, 2, 3, 0, 5, 6, 4, 7, 8)\n",
      "Frontier: [(1, 2, 3, 4, 5, 6, 7, 0, 8), (0, 2, 3, 1, 5, 6, 4, 7, 8), (1, 2, 3, 5, 0, 6, 4, 7, 8)]\n",
      "Current state: (1, 2, 3, 4, 5, 6, 7, 0, 8)\n",
      "Frontier: [(0, 2, 3, 1, 5, 6, 4, 7, 8), (1, 2, 3, 5, 0, 6, 4, 7, 8), (1, 2, 3, 4, 0, 6, 7, 5, 8), (1, 2, 3, 4, 5, 6, 7, 8, 0)]\n",
      "Current state: (0, 2, 3, 1, 5, 6, 4, 7, 8)\n",
      "Frontier: [(1, 2, 3, 5, 0, 6, 4, 7, 8), (1, 2, 3, 4, 0, 6, 7, 5, 8), (1, 2, 3, 4, 5, 6, 7, 8, 0), (2, 0, 3, 1, 5, 6, 4, 7, 8)]\n",
      "Current state: (1, 2, 3, 5, 0, 6, 4, 7, 8)\n",
      "Frontier: [(1, 2, 3, 4, 0, 6, 7, 5, 8), (1, 2, 3, 4, 5, 6, 7, 8, 0), (2, 0, 3, 1, 5, 6, 4, 7, 8), (1, 0, 3, 5, 2, 6, 4, 7, 8), (1, 2, 3, 5, 7, 6, 4, 0, 8), (1, 2, 3, 5, 6, 0, 4, 7, 8)]\n",
      "Current state: (1, 2, 3, 4, 0, 6, 7, 5, 8)\n",
      "Frontier: [(1, 2, 3, 4, 5, 6, 7, 8, 0), (2, 0, 3, 1, 5, 6, 4, 7, 8), (1, 0, 3, 5, 2, 6, 4, 7, 8), (1, 2, 3, 5, 7, 6, 4, 0, 8), (1, 2, 3, 5, 6, 0, 4, 7, 8), (1, 0, 3, 4, 2, 6, 7, 5, 8), (1, 2, 3, 0, 4, 6, 7, 5, 8), (1, 2, 3, 4, 6, 0, 7, 5, 8)]\n",
      "Current state: (1, 2, 3, 4, 5, 6, 7, 8, 0)\n",
      "goal state reached\n",
      "(1, 2, 3, 4, 5, 6, 7, 8, 0)\n"
     ]
    }
   ],
   "source": [
    "state = bfsearch((1,2,3,4,5,6,0,7,8), (1,2,3,4,5,6,7,8,0))\n",
    "print(state)"
   ]
  },
  {
   "cell_type": "code",
   "execution_count": 28,
   "metadata": {},
   "outputs": [
    {
     "name": "stdout",
     "output_type": "stream",
     "text": [
      "(1, 2, 3, 4, 5, 6, 7, 8, 0)\n",
      "(1, 2, 3, 4, 5, 6, 7, 0, 8)\n",
      "(1, 2, 3, 4, 5, 6, 0, 7, 8)\n"
     ]
    }
   ],
   "source": [
    "print(state)\n",
    "s = state\n",
    "while s.parent:\n",
    "    print(s.parent)\n",
    "    s = s.parent"
   ]
  },
  {
   "cell_type": "code",
   "execution_count": null,
   "metadata": {},
   "outputs": [],
   "source": []
  },
  {
   "cell_type": "markdown",
   "metadata": {},
   "source": [
    "## Implementing a customized stack"
   ]
  },
  {
   "cell_type": "code",
   "execution_count": 29,
   "metadata": {},
   "outputs": [],
   "source": [
    "class Stack:\n",
    "    def __init__(self):\n",
    "\n",
    "        self._container = []\n",
    "\n",
    "    @property\n",
    "    def empty(self):\n",
    "\n",
    "        return not self._container  # not is true for empty container\n",
    "\n",
    "    def push(self, item):\n",
    "\n",
    "        self._container.append(item)\n",
    "\n",
    "    def pop(self):\n",
    "\n",
    "        return self._container.pop()  # LIFO\n",
    "    \n",
    "    def getItems(self):\n",
    "    \n",
    "        return self._container\n",
    "\n",
    "    def __repr__(self):\n",
    "\n",
    "        return repr(self._container)"
   ]
  },
  {
   "cell_type": "code",
   "execution_count": 30,
   "metadata": {},
   "outputs": [],
   "source": [
    "def dfsearchv2(start, goal):\n",
    "    \"\"\"\n",
    "    Performs depth first search.\n",
    "    start is the start state\n",
    "    goal is the goal state\n",
    "    \"\"\"    \n",
    "    explored = set() # initialize the explored list as a set\n",
    "    frontier = Stack() \n",
    "    frontier.push(Node(start)) # initializ the frontier as a list with the start state \n",
    "    #print('searching from: {} to {}'.format(orig, dest))\n",
    "    stepcount = 0\n",
    "    while frontier: #repeat while frontier is not empty\n",
    "        print('Frontier:', frontier) # print current contents of the frontier\n",
    "        # remove one state form the frontier andsoter \n",
    "        currentNode = frontier.pop() # pop() method removes and returns the last item\n",
    "        currentState = currentNode.state\n",
    "        stepcount += 1\n",
    "        print('Current state:', currentState) # print the current state\n",
    "        \n",
    "        # test wheter the current state is goal?\n",
    "        if goaltest(currentState, goal): \n",
    "            print('goal state reached')\n",
    "            return currentNode\n",
    "        \n",
    "        explored.add(currentState) #add the current state to expored list\n",
    "            \n",
    "        successors = expand(currentState)\n",
    "        for successor in successors:\n",
    "            if successor in explored or Node(successor,currentNode) in frontier.getItems():\n",
    "                continue\n",
    "            frontier.push(Node(successor,currentNode))\n",
    "        \n",
    "        if stepcount >20:\n",
    "            print(f\"Depth Limit of {stepcount} reached\")\n",
    "            return None\n",
    "    \n",
    "    print('failure')\n",
    "    return None"
   ]
  },
  {
   "cell_type": "code",
   "execution_count": 31,
   "metadata": {},
   "outputs": [
    {
     "name": "stdout",
     "output_type": "stream",
     "text": [
      "Frontier: [(1, 2, 3, 4, 5, 6, 0, 7, 8)]\n",
      "Current state: (1, 2, 3, 4, 5, 6, 0, 7, 8)\n",
      "Frontier: [(1, 2, 3, 0, 5, 6, 4, 7, 8), (1, 2, 3, 4, 5, 6, 7, 0, 8)]\n",
      "Current state: (1, 2, 3, 4, 5, 6, 7, 0, 8)\n",
      "Frontier: [(1, 2, 3, 0, 5, 6, 4, 7, 8), (1, 2, 3, 4, 0, 6, 7, 5, 8), (1, 2, 3, 4, 5, 6, 7, 8, 0)]\n",
      "Current state: (1, 2, 3, 4, 5, 6, 7, 8, 0)\n",
      "goal state reached\n",
      "(1, 2, 3, 4, 5, 6, 7, 8, 0)\n"
     ]
    }
   ],
   "source": [
    "state = dfsearchv2((1,2,3,4,5,6,0,7,8), (1,2,3,4,5,6,7,8,0))\n",
    "print(state.state)"
   ]
  },
  {
   "cell_type": "code",
   "execution_count": null,
   "metadata": {},
   "outputs": [],
   "source": []
  },
  {
   "cell_type": "code",
   "execution_count": 32,
   "metadata": {},
   "outputs": [],
   "source": [
    "#queue class\n",
    "from collections import deque\n",
    "class Queue:\n",
    "    def __init__(self):\n",
    "\n",
    "        self._container = (\n",
    "            deque()\n",
    "        )  # Deque is more efficient as comparted with list with pop(0)\n",
    "\n",
    "    @property\n",
    "    def empty(self):\n",
    "\n",
    "        return not self._container  # not is true for empty container\n",
    "\n",
    "    def push(self, item):\n",
    "\n",
    "        self._container.append(item)\n",
    "\n",
    "    def pop(self):\n",
    "\n",
    "        return self._container.popleft()  # FIFO\n",
    "    \n",
    "    def getItems(self):\n",
    "    \n",
    "        return list(self._container)\n",
    "        \n",
    "    def __repr__(self):\n",
    "\n",
    "        return repr(list(self._container))\n"
   ]
  },
  {
   "cell_type": "code",
   "execution_count": 33,
   "metadata": {},
   "outputs": [],
   "source": [
    "def bfsearchv2(start, goal):\n",
    "    \"\"\"\n",
    "    Performs depth first search.\n",
    "    start is the start state\n",
    "    goal is the goal state\n",
    "    \"\"\"    \n",
    "    explored = set() # initialize the explored list as a set\n",
    "    frontier = Queue() \n",
    "    frontier.push(Node(start)) # initializ the frontier as a list with the start state \n",
    "    #print('searching from: {} to {}'.format(orig, dest))\n",
    "    stepcount = 0\n",
    "    while frontier: #repeat while frontier is not empty\n",
    "        print('Frontier:', frontier) # print current contents of the frontier\n",
    "        # remove one state form the frontier andsoter \n",
    "        currentNode = frontier.pop() # pop() method removes and returns the last item\n",
    "        currentState = currentNode.state\n",
    "        stepcount += 1\n",
    "        print('Current state:', currentState) # print the current state\n",
    "        \n",
    "        # test wheter the current state is goal?\n",
    "        if goaltest(currentState, goal): \n",
    "            print('goal state reached')\n",
    "            return currentNode\n",
    "        \n",
    "        explored.add(currentState) #add the current state to expored list\n",
    "            \n",
    "        successors = expand(currentState)\n",
    "        for successor in successors:\n",
    "            if successor in explored or Node(successor,currentNode) in frontier.getItems():\n",
    "                continue\n",
    "            frontier.push(Node(successor,currentNode))\n",
    "        \n",
    "        if stepcount >20:\n",
    "            print(f\"Depth Limit of {stepcount} reached\")\n",
    "            return None\n",
    "    \n",
    "    print('failure')\n",
    "    return None"
   ]
  },
  {
   "cell_type": "code",
   "execution_count": 34,
   "metadata": {
    "scrolled": true
   },
   "outputs": [
    {
     "name": "stdout",
     "output_type": "stream",
     "text": [
      "Frontier: [(1, 2, 3, 4, 5, 6, 0, 7, 8)]\n",
      "Current state: (1, 2, 3, 4, 5, 6, 0, 7, 8)\n",
      "Frontier: [(1, 2, 3, 0, 5, 6, 4, 7, 8), (1, 2, 3, 4, 5, 6, 7, 0, 8)]\n",
      "Current state: (1, 2, 3, 0, 5, 6, 4, 7, 8)\n",
      "Frontier: [(1, 2, 3, 4, 5, 6, 7, 0, 8), (0, 2, 3, 1, 5, 6, 4, 7, 8), (1, 2, 3, 5, 0, 6, 4, 7, 8)]\n",
      "Current state: (1, 2, 3, 4, 5, 6, 7, 0, 8)\n",
      "Frontier: [(0, 2, 3, 1, 5, 6, 4, 7, 8), (1, 2, 3, 5, 0, 6, 4, 7, 8), (1, 2, 3, 4, 0, 6, 7, 5, 8), (1, 2, 3, 4, 5, 6, 7, 8, 0)]\n",
      "Current state: (0, 2, 3, 1, 5, 6, 4, 7, 8)\n",
      "Frontier: [(1, 2, 3, 5, 0, 6, 4, 7, 8), (1, 2, 3, 4, 0, 6, 7, 5, 8), (1, 2, 3, 4, 5, 6, 7, 8, 0), (2, 0, 3, 1, 5, 6, 4, 7, 8)]\n",
      "Current state: (1, 2, 3, 5, 0, 6, 4, 7, 8)\n",
      "Frontier: [(1, 2, 3, 4, 0, 6, 7, 5, 8), (1, 2, 3, 4, 5, 6, 7, 8, 0), (2, 0, 3, 1, 5, 6, 4, 7, 8), (1, 0, 3, 5, 2, 6, 4, 7, 8), (1, 2, 3, 5, 7, 6, 4, 0, 8), (1, 2, 3, 5, 6, 0, 4, 7, 8)]\n",
      "Current state: (1, 2, 3, 4, 0, 6, 7, 5, 8)\n",
      "Frontier: [(1, 2, 3, 4, 5, 6, 7, 8, 0), (2, 0, 3, 1, 5, 6, 4, 7, 8), (1, 0, 3, 5, 2, 6, 4, 7, 8), (1, 2, 3, 5, 7, 6, 4, 0, 8), (1, 2, 3, 5, 6, 0, 4, 7, 8), (1, 0, 3, 4, 2, 6, 7, 5, 8), (1, 2, 3, 0, 4, 6, 7, 5, 8), (1, 2, 3, 4, 6, 0, 7, 5, 8)]\n",
      "Current state: (1, 2, 3, 4, 5, 6, 7, 8, 0)\n",
      "goal state reached\n",
      "(1, 2, 3, 4, 5, 6, 7, 8, 0)\n"
     ]
    }
   ],
   "source": [
    "state = bfsearchv2((1,2,3,4,5,6,0,7,8), (1,2,3,4,5,6,7,8,0))\n",
    "print(state.state)"
   ]
  },
  {
   "cell_type": "code",
   "execution_count": null,
   "metadata": {},
   "outputs": [],
   "source": []
  },
  {
   "cell_type": "code",
   "execution_count": null,
   "metadata": {},
   "outputs": [],
   "source": []
  }
 ],
 "metadata": {
  "kernelspec": {
   "display_name": "Python 3 (ipykernel)",
   "language": "python",
   "name": "python3"
  },
  "language_info": {
   "codemirror_mode": {
    "name": "ipython",
    "version": 3
   },
   "file_extension": ".py",
   "mimetype": "text/x-python",
   "name": "python",
   "nbconvert_exporter": "python",
   "pygments_lexer": "ipython3",
   "version": "3.9.12"
  }
 },
 "nbformat": 4,
 "nbformat_minor": 2
}
