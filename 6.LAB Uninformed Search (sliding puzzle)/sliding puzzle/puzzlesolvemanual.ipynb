{
 "cells": [
  {
   "cell_type": "markdown",
   "metadata": {},
   "source": [
    "# Problem formulation and uninformed search \n",
    "\n",
    "## Sliding Puzzle Example\n",
    "\n",
    "A sliding puzzle, sliding block puzzle, or sliding tile puzzle is a combination puzzle that challenges a player to slide (frequently flat) pieces along certain routes (usually on a board) to establish a certain end-configuration. The pieces to be moved may consist of simple shapes, or they may be imprinted with colors, patterns, sections of a larger picture (like a jigsaw puzzle), numbers, or letters.\n",
    "\n",
    "Rules of this game are very simple - we are sliding (←, →, ↑ , ↓) tiles to reach the final state in which all numbers are in order with ‘1’ in the top left corner of the board.\n",
    "\n",
    "<img src=\"slidingpuzzle.gif\" width=\"500\" />"
   ]
  },
  {
   "cell_type": "markdown",
   "metadata": {},
   "source": [
    "### State Representation\n",
    "\n",
    "Lets use a tuple of lenght 8 for state represntation. Using this representation scheme the followng state:\n",
    "\n",
    "0 1 2 \n",
    "\n",
    "3 4 5\n",
    "\n",
    "6 7 8\n",
    "\n",
    "\n",
    "is representate as the tuple:\n",
    "\n",
    "(0,1,2,3,4,5,6,7,8)\n",
    "\n",
    "Where 0 represents the blank position. \n",
    "\n",
    "The goal state and the inital states are representes as:"
   ]
  },
  {
   "cell_type": "code",
   "execution_count": 3,
   "metadata": {},
   "outputs": [],
   "source": [
    "goal = (1,2,3,4,5,6,7,8,0)\n",
    "start = (8,2,0,4,7,6,3,5,1)"
   ]
  },
  {
   "cell_type": "markdown",
   "metadata": {},
   "source": [
    "Lets create a function to that takes a tupe as an input state and shows the correspondig slidign puzzle state:"
   ]
  },
  {
   "cell_type": "code",
   "execution_count": 4,
   "metadata": {},
   "outputs": [],
   "source": [
    "def printstate(state):\n",
    "    \"\"\"\n",
    "    prints states in a 3x3 tabular form\n",
    "    \"\"\"\n",
    "    \n",
    "    print(state[0:3])\n",
    "    print(state[3:6])\n",
    "    print(state[6:9])\n",
    "    \n",
    "def printpuzzle(state):\n",
    "    \"\"\"\n",
    "    prints the puzzle state in a better looking form\n",
    "    \"\"\"\n",
    "\n",
    "    print('_______\\n|{}|{}|{}|\\n|{}|{}|{}|\\n|{}|{}|{}|\\n_______'.format(state[0],\n",
    "state[1],\n",
    "state[2],\n",
    "state[3],\n",
    "state[4],\n",
    "state[5],\n",
    "state[6],\n",
    "state[7],\n",
    "state[8],\n",
    "))"
   ]
  },
  {
   "cell_type": "code",
   "execution_count": 5,
   "metadata": {},
   "outputs": [
    {
     "name": "stdout",
     "output_type": "stream",
     "text": [
      "_______\n",
      "|8|2|0|\n",
      "|4|7|6|\n",
      "|3|5|1|\n",
      "_______\n"
     ]
    }
   ],
   "source": [
    "printpuzzle(start)\n"
   ]
  },
  {
   "cell_type": "markdown",
   "metadata": {},
   "source": [
    "The following function tests whether or not a state is goal state"
   ]
  },
  {
   "cell_type": "code",
   "execution_count": 6,
   "metadata": {},
   "outputs": [],
   "source": [
    "def goaltest(state, goal):\n",
    "    \"\"\"\n",
    "    Tests wheater the state is a goal state or not\n",
    "    \"\"\"\n",
    "    if state == goal:\n",
    "        return True\n",
    "    else:\n",
    "        return False"
   ]
  },
  {
   "cell_type": "code",
   "execution_count": 7,
   "metadata": {},
   "outputs": [
    {
     "name": "stdout",
     "output_type": "stream",
     "text": [
      "_______\n",
      "|1|0|2|\n",
      "|3|4|5|\n",
      "|6|7|8|\n",
      "_______\n"
     ]
    },
    {
     "data": {
      "text/plain": [
       "False"
      ]
     },
     "execution_count": 7,
     "metadata": {},
     "output_type": "execute_result"
    }
   ],
   "source": [
    "a = (1,0,2,3,4,5,6,7,8)\n",
    "\n",
    "printpuzzle(a)\n",
    "\n",
    "goaltest(a,goal)"
   ]
  },
  {
   "cell_type": "code",
   "execution_count": 9,
   "metadata": {},
   "outputs": [
    {
     "name": "stdout",
     "output_type": "stream",
     "text": [
      "_______\n",
      "|1|2|3|\n",
      "|4|5|6|\n",
      "|7|8|0|\n",
      "_______\n"
     ]
    },
    {
     "data": {
      "text/plain": [
       "True"
      ]
     },
     "execution_count": 9,
     "metadata": {},
     "output_type": "execute_result"
    }
   ],
   "source": [
    "b = (1,2,3,4,5,6,7,8,0)\n",
    "\n",
    "printpuzzle(b)\n",
    "\n",
    "goaltest(b,goal)"
   ]
  },
  {
   "cell_type": "markdown",
   "metadata": {},
   "source": [
    "### Transition model\n",
    "\n",
    "The following function implements the transition model. It requires an input state 'statein' and an action as inputs and returns the resulting state after performing the provided action. "
   ]
  },
  {
   "cell_type": "code",
   "execution_count": 10,
   "metadata": {},
   "outputs": [],
   "source": [
    "def result(statein,action):\n",
    "    \"\"\"\n",
    "    Returns the state produced as a result of performing 'action' \n",
    "    on the given state 'statein'\n",
    "    \"\"\"\n",
    "    stateout = list(statein) # # make a local copy of statein\n",
    "    \n",
    "    if action == 'Up':\n",
    "        idx = statein.index(0)\n",
    "        stateout[idx] = statein[idx-3]\n",
    "        stateout[idx-3] = 0\n",
    "        \n",
    "    elif action == 'Down':\n",
    "        idx = statein.index(0)\n",
    "        stateout[idx] = statein[idx+3]\n",
    "        stateout[idx+3] = 0\n",
    "\n",
    "    elif action == 'Left':\n",
    "        idx = statein.index(0)\n",
    "        stateout[idx] = statein[idx-1]\n",
    "        stateout[idx-1] = 0\n",
    "\n",
    "    elif action == 'Right':\n",
    "        idx = statein.index(0)\n",
    "        stateout[idx] = statein[idx+1]\n",
    "        stateout[idx+1] = 0\n",
    " \n",
    "    return tuple(stateout)"
   ]
  },
  {
   "cell_type": "code",
   "execution_count": 11,
   "metadata": {},
   "outputs": [
    {
     "name": "stdout",
     "output_type": "stream",
     "text": [
      "_______\n",
      "|1|0|2|\n",
      "|3|4|5|\n",
      "|6|7|8|\n",
      "_______\n",
      "_______\n",
      "|1|4|2|\n",
      "|3|0|5|\n",
      "|6|7|8|\n",
      "_______\n"
     ]
    }
   ],
   "source": [
    "printpuzzle(a) # prints puzzle>\n",
    "printpuzzle(result(a,'Down')) # prints the puzzle ofter 'Down' action"
   ]
  },
  {
   "cell_type": "markdown",
   "metadata": {},
   "source": [
    "### Finding the successor states (neighbors)\n",
    "\n",
    "The following function returns all successors of the input state by applying all possible actions at that state. Note the use of set built-in datatype."
   ]
  },
  {
   "cell_type": "code",
   "execution_count": 13,
   "metadata": {},
   "outputs": [],
   "source": [
    "def expand(state):\n",
    "    \"\"\"\n",
    "    Returns a list of successors of the 'state' by performing all\n",
    "    possible actions at the 'state'\n",
    "    \"\"\"\n",
    "    actions = []\n",
    "    successors = []\n",
    "    blank = state.index(0) # built in method of the list class\n",
    "    \n",
    "    if blank in {3,4,5,6,7,8}: # action 'Up' is possible if blank tile is on one of these locations\n",
    "        actions.append('Up') #append up in actions list\n",
    "    if blank in {0,1,2,3,4,5}:\n",
    "        actions.append('Down')\n",
    "    if blank in {1,2,4,5,7,8}:\n",
    "        actions.append('Left')\n",
    "    if blank in {0,1,3,4,6,7}:\n",
    "        actions.append('Right')\n",
    "    #print(actions)\n",
    "    for action in actions:\n",
    "        #print(action)\n",
    "        successors.append(result(state,action)) \n",
    "    \n",
    "    return successors\n"
   ]
  },
  {
   "cell_type": "code",
   "execution_count": 15,
   "metadata": {},
   "outputs": [
    {
     "name": "stdout",
     "output_type": "stream",
     "text": [
      "_______\n",
      "|1|0|2|\n",
      "|3|4|5|\n",
      "|6|7|8|\n",
      "_______\n"
     ]
    },
    {
     "data": {
      "text/plain": [
       "[(1, 4, 2, 3, 0, 5, 6, 7, 8),\n",
       " (0, 1, 2, 3, 4, 5, 6, 7, 8),\n",
       " (1, 2, 0, 3, 4, 5, 6, 7, 8)]"
      ]
     },
     "execution_count": 15,
     "metadata": {},
     "output_type": "execute_result"
    }
   ],
   "source": [
    "printpuzzle(a) \n",
    "expand(a) # "
   ]
  },
  {
   "cell_type": "code",
   "execution_count": 34,
   "metadata": {},
   "outputs": [
    {
     "name": "stdout",
     "output_type": "stream",
     "text": [
      "_______\n",
      "|1|0|2|\n",
      "|3|4|5|\n",
      "|6|7|8|\n",
      "_______\n",
      "Select Action:\n",
      "l\n",
      "your selected action:l\n",
      "_______\n",
      "|0|1|2|\n",
      "|3|4|5|\n",
      "|6|7|8|\n",
      "_______\n"
     ]
    }
   ],
   "source": [
    "state=a\n",
    "\n",
    "printpuzzle(state)\n",
    "print(\"Select Action:\")\n",
    "action = input()\n",
    "print(f\"your selected action:{action}\")\n",
    "\n",
    "if action == \"u\":\n",
    "    state = result(state,\"Up\")\n",
    "elif action ==\"d\":\n",
    "    state = result(state,\"Down\")\n",
    "elif action ==\"l\":\n",
    "    state = result(state,\"Left\")\n",
    "elif action ==\"r\":\n",
    "    state = result(state,\"Right\")\n",
    "    \n",
    "printpuzzle(state)"
   ]
  },
  {
   "cell_type": "code",
   "execution_count": null,
   "metadata": {},
   "outputs": [],
   "source": []
  }
 ],
 "metadata": {
  "kernelspec": {
   "display_name": "Python 3 (ipykernel)",
   "language": "python",
   "name": "python3"
  },
  "language_info": {
   "codemirror_mode": {
    "name": "ipython",
    "version": 3
   },
   "file_extension": ".py",
   "mimetype": "text/x-python",
   "name": "python",
   "nbconvert_exporter": "python",
   "pygments_lexer": "ipython3",
   "version": "3.9.12"
  }
 },
 "nbformat": 4,
 "nbformat_minor": 2
}
