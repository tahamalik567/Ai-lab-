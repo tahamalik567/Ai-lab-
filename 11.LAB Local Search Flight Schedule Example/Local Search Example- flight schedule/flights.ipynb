{
 "cells": [
  {
   "cell_type": "markdown",
   "metadata": {},
   "source": [
    "# Local Seach Example (Flight Scheduling)\n",
    "\n",
    "Planning a trip for a group of people (the Glass family in this example) from different\n",
    "locations all arriving at the same place is always a challenge, and it makes for an\n",
    "interesting optimization problem.\n",
    "\n",
    "The family members are from all over the country and wish to meet up in New York.\n",
    "They will all arrive on the same day and leave on the same day, and they would like\n",
    "to share transportation to and from the airport. There are dozens of flights per day to\n",
    "New York from any of the family members’ locations, all leaving at different times.\n",
    "The flights also vary in price and in duration."
   ]
  },
  {
   "cell_type": "code",
   "execution_count": 1,
   "metadata": {},
   "outputs": [],
   "source": [
    "import time\n",
    "import random\n",
    "import math\n",
    "\n",
    "people = [('Seymour','BOS'),  # Logan International Airport, Boston, Massachusetts.\n",
    "('Franny','DAL'), # Dallas Love Field Airport, Dallas, Texas.\n",
    "('Zooey','CAK'), # Akron Canton Regional Airport, Akron, Ohio.\n",
    "('Walt','MIA'), # Miami International Airport, Miami, Florida.\n",
    "('Buddy','ORD'), # Chicago O'Hare International Airport, Chicago, Illinois.\n",
    "('Les','OMA'), # Eppley Airfield, Omaha, Nebraska,\n",
    "         ]\n",
    "\n",
    "\n",
    "destination='LGA' # LaGuardia airport in New York"
   ]
  },
  {
   "cell_type": "code",
   "execution_count": 2,
   "metadata": {},
   "outputs": [
    {
     "name": "stdout",
     "output_type": "stream",
     "text": [
      "Buddy\n",
      "ORD\n"
     ]
    }
   ],
   "source": [
    "p = 4 # a person's index\n",
    "# to extract name of pth person \n",
    "print(people[p][0])\n",
    "# to extract origin of pth person\n",
    "print(people[p][1])\n",
    "\n"
   ]
  },
  {
   "cell_type": "code",
   "execution_count": 3,
   "metadata": {
    "scrolled": false
   },
   "outputs": [
    {
     "name": "stdout",
     "output_type": "stream",
     "text": [
      "LGA OMA 6:19 8:13 239\n",
      "OMA LGA 6:11 8:31 249\n",
      "LGA OMA 8:04 10:59 136\n",
      "OMA LGA 7:39 10:24 219\n",
      "LGA OMA 9:31 11:43 210\n",
      "OMA LGA 9:15 12:03 99\n",
      "LGA OMA 11:07 13:24 171\n",
      "OMA LGA 11:08 13:07 175\n",
      "LGA OMA 12:31 14:02 234\n",
      "OMA LGA 12:18 14:56 172\n",
      "LGA OMA 14:05 15:47 226\n",
      "OMA LGA 13:37 15:08 250\n",
      "LGA OMA 15:07 17:21 129\n",
      "OMA LGA 15:03 16:42 135\n",
      "LGA OMA 16:35 18:56 144\n",
      "OMA LGA 16:51 19:09 147\n",
      "LGA OMA 18:25 20:34 205\n",
      "OMA LGA 18:12 20:17 242\n",
      "LGA OMA 20:05 21:44 172\n",
      "OMA LGA 20:05 22:06 261\n",
      "LGA ORD 6:03 8:43 219\n",
      "ORD LGA 6:05 8:32 174\n",
      "LGA ORD 7:50 10:08 164\n",
      "ORD LGA 8:25 10:34 157\n",
      "LGA ORD 9:11 10:42 172\n",
      "ORD LGA 9:42 11:32 169\n",
      "LGA ORD 10:33 13:11 132\n",
      "ORD LGA 11:01 12:39 260\n",
      "LGA ORD 12:08 14:47 231\n",
      "ORD LGA 12:44 14:17 134\n",
      "LGA ORD 14:19 17:09 190\n",
      "ORD LGA 14:22 16:32 126\n",
      "LGA ORD 15:04 17:23 189\n",
      "ORD LGA 15:58 18:40 173\n",
      "LGA ORD 17:06 20:00 95\n",
      "ORD LGA 16:43 19:00 246\n",
      "LGA ORD 18:33 20:22 143\n",
      "ORD LGA 18:48 21:45 246\n",
      "LGA ORD 19:32 21:25 160\n",
      "ORD LGA 19:50 22:24 269\n",
      "LGA MIA 6:33 9:14 172\n",
      "MIA LGA 6:25 9:30 335\n",
      "LGA MIA 8:23 11:07 143\n",
      "MIA LGA 7:34 9:40 324\n",
      "LGA MIA 9:25 12:46 295\n",
      "MIA LGA 9:15 12:29 225\n",
      "LGA MIA 11:08 14:38 262\n",
      "MIA LGA 11:28 14:40 248\n",
      "LGA MIA 12:37 15:05 170\n",
      "MIA LGA 12:05 15:30 330\n",
      "LGA MIA 14:08 16:09 232\n",
      "MIA LGA 14:01 17:24 338\n",
      "LGA MIA 15:23 18:49 150\n",
      "MIA LGA 15:34 18:11 326\n",
      "LGA MIA 16:50 19:26 304\n",
      "MIA LGA 17:07 20:04 291\n",
      "LGA MIA 18:07 21:30 355\n",
      "MIA LGA 18:23 21:35 134\n",
      "LGA MIA 20:27 23:42 169\n",
      "MIA LGA 19:53 22:21 173\n",
      "LGA BOS 6:39 8:09 86\n",
      "BOS LGA 6:17 8:26 89\n",
      "LGA BOS 8:23 10:28 149\n",
      "BOS LGA 8:04 10:11 95\n",
      "LGA BOS 9:58 11:18 130\n",
      "BOS LGA 9:45 11:50 172\n",
      "LGA BOS 10:33 12:03 74\n",
      "BOS LGA 11:16 13:29 83\n",
      "LGA BOS 12:08 14:05 142\n",
      "BOS LGA 12:34 15:02 109\n",
      "LGA BOS 13:39 15:30 74\n",
      "BOS LGA 13:40 15:37 138\n",
      "LGA BOS 15:25 16:58 62\n",
      "BOS LGA 15:27 17:18 151\n",
      "LGA BOS 17:03 18:03 103\n",
      "BOS LGA 17:11 18:30 108\n",
      "LGA BOS 18:24 20:49 124\n",
      "BOS LGA 18:34 19:36 136\n",
      "LGA BOS 19:58 21:23 142\n",
      "BOS LGA 20:17 22:22 102\n",
      "LGA DAL 6:09 9:49 414\n",
      "DAL LGA 6:12 10:22 230\n",
      "LGA DAL 7:57 11:15 347\n",
      "DAL LGA 7:53 11:37 433\n",
      "LGA DAL 9:49 13:51 229\n",
      "DAL LGA 9:08 12:12 364\n",
      "LGA DAL 10:51 14:16 256\n",
      "DAL LGA 10:30 14:57 290\n",
      "LGA DAL 12:20 16:34 500\n",
      "DAL LGA 12:19 15:25 342\n",
      "LGA DAL 14:20 17:32 332\n",
      "DAL LGA 13:54 18:02 294\n",
      "LGA DAL 15:49 20:10 497\n",
      "DAL LGA 15:44 18:55 382\n",
      "LGA DAL 17:14 20:59 277\n",
      "DAL LGA 16:52 20:48 448\n",
      "LGA DAL 18:44 22:42 351\n",
      "DAL LGA 18:26 21:29 464\n",
      "LGA DAL 19:57 23:15 512\n",
      "DAL LGA 20:07 23:27 473\n",
      "LGA CAK 6:58 9:01 238\n",
      "CAK LGA 6:08 8:06 224\n",
      "LGA CAK 8:19 11:16 122\n",
      "CAK LGA 8:27 10:45 139\n",
      "LGA CAK 9:58 12:56 249\n",
      "CAK LGA 9:15 12:14 247\n",
      "LGA CAK 10:32 13:16 139\n",
      "CAK LGA 10:53 13:36 189\n",
      "LGA CAK 12:01 13:41 267\n",
      "CAK LGA 12:08 14:59 149\n",
      "LGA CAK 13:37 15:33 142\n",
      "CAK LGA 13:40 15:38 137\n",
      "LGA CAK 15:50 18:45 243\n",
      "CAK LGA 15:23 17:25 232\n",
      "LGA CAK 16:33 18:15 253\n",
      "CAK LGA 17:08 19:08 262\n",
      "LGA CAK 18:17 21:04 259\n",
      "CAK LGA 18:35 20:28 204\n",
      "LGA CAK 19:46 21:45 214\n",
      "CAK LGA 20:30 23:11 114\n"
     ]
    }
   ],
   "source": [
    "import csv\n",
    "\n",
    "flights={}\n",
    "\n",
    "with open('schedule.txt', mode='r') as csv_file:\n",
    "    csv_reader = csv.reader(csv_file, delimiter=',')\n",
    "    for row in csv_reader:\n",
    "        origin,dest,depart,arrive,price = row\n",
    "        print(origin,dest,depart,arrive,price)\n",
    "        flights.setdefault((origin,dest),[])\n",
    "        # Add details to the list of possible flights\n",
    "        flights[(origin,dest)].append((depart,arrive,int(price)))"
   ]
  },
  {
   "cell_type": "code",
   "execution_count": 4,
   "metadata": {},
   "outputs": [
    {
     "data": {
      "text/plain": [
       "{('LGA', 'OMA'): [('6:19', '8:13', 239),\n",
       "  ('8:04', '10:59', 136),\n",
       "  ('9:31', '11:43', 210),\n",
       "  ('11:07', '13:24', 171),\n",
       "  ('12:31', '14:02', 234),\n",
       "  ('14:05', '15:47', 226),\n",
       "  ('15:07', '17:21', 129),\n",
       "  ('16:35', '18:56', 144),\n",
       "  ('18:25', '20:34', 205),\n",
       "  ('20:05', '21:44', 172)],\n",
       " ('OMA', 'LGA'): [('6:11', '8:31', 249),\n",
       "  ('7:39', '10:24', 219),\n",
       "  ('9:15', '12:03', 99),\n",
       "  ('11:08', '13:07', 175),\n",
       "  ('12:18', '14:56', 172),\n",
       "  ('13:37', '15:08', 250),\n",
       "  ('15:03', '16:42', 135),\n",
       "  ('16:51', '19:09', 147),\n",
       "  ('18:12', '20:17', 242),\n",
       "  ('20:05', '22:06', 261)],\n",
       " ('LGA', 'ORD'): [('6:03', '8:43', 219),\n",
       "  ('7:50', '10:08', 164),\n",
       "  ('9:11', '10:42', 172),\n",
       "  ('10:33', '13:11', 132),\n",
       "  ('12:08', '14:47', 231),\n",
       "  ('14:19', '17:09', 190),\n",
       "  ('15:04', '17:23', 189),\n",
       "  ('17:06', '20:00', 95),\n",
       "  ('18:33', '20:22', 143),\n",
       "  ('19:32', '21:25', 160)],\n",
       " ('ORD', 'LGA'): [('6:05', '8:32', 174),\n",
       "  ('8:25', '10:34', 157),\n",
       "  ('9:42', '11:32', 169),\n",
       "  ('11:01', '12:39', 260),\n",
       "  ('12:44', '14:17', 134),\n",
       "  ('14:22', '16:32', 126),\n",
       "  ('15:58', '18:40', 173),\n",
       "  ('16:43', '19:00', 246),\n",
       "  ('18:48', '21:45', 246),\n",
       "  ('19:50', '22:24', 269)],\n",
       " ('LGA', 'MIA'): [('6:33', '9:14', 172),\n",
       "  ('8:23', '11:07', 143),\n",
       "  ('9:25', '12:46', 295),\n",
       "  ('11:08', '14:38', 262),\n",
       "  ('12:37', '15:05', 170),\n",
       "  ('14:08', '16:09', 232),\n",
       "  ('15:23', '18:49', 150),\n",
       "  ('16:50', '19:26', 304),\n",
       "  ('18:07', '21:30', 355),\n",
       "  ('20:27', '23:42', 169)],\n",
       " ('MIA', 'LGA'): [('6:25', '9:30', 335),\n",
       "  ('7:34', '9:40', 324),\n",
       "  ('9:15', '12:29', 225),\n",
       "  ('11:28', '14:40', 248),\n",
       "  ('12:05', '15:30', 330),\n",
       "  ('14:01', '17:24', 338),\n",
       "  ('15:34', '18:11', 326),\n",
       "  ('17:07', '20:04', 291),\n",
       "  ('18:23', '21:35', 134),\n",
       "  ('19:53', '22:21', 173)],\n",
       " ('LGA', 'BOS'): [('6:39', '8:09', 86),\n",
       "  ('8:23', '10:28', 149),\n",
       "  ('9:58', '11:18', 130),\n",
       "  ('10:33', '12:03', 74),\n",
       "  ('12:08', '14:05', 142),\n",
       "  ('13:39', '15:30', 74),\n",
       "  ('15:25', '16:58', 62),\n",
       "  ('17:03', '18:03', 103),\n",
       "  ('18:24', '20:49', 124),\n",
       "  ('19:58', '21:23', 142)],\n",
       " ('BOS', 'LGA'): [('6:17', '8:26', 89),\n",
       "  ('8:04', '10:11', 95),\n",
       "  ('9:45', '11:50', 172),\n",
       "  ('11:16', '13:29', 83),\n",
       "  ('12:34', '15:02', 109),\n",
       "  ('13:40', '15:37', 138),\n",
       "  ('15:27', '17:18', 151),\n",
       "  ('17:11', '18:30', 108),\n",
       "  ('18:34', '19:36', 136),\n",
       "  ('20:17', '22:22', 102)],\n",
       " ('LGA', 'DAL'): [('6:09', '9:49', 414),\n",
       "  ('7:57', '11:15', 347),\n",
       "  ('9:49', '13:51', 229),\n",
       "  ('10:51', '14:16', 256),\n",
       "  ('12:20', '16:34', 500),\n",
       "  ('14:20', '17:32', 332),\n",
       "  ('15:49', '20:10', 497),\n",
       "  ('17:14', '20:59', 277),\n",
       "  ('18:44', '22:42', 351),\n",
       "  ('19:57', '23:15', 512)],\n",
       " ('DAL', 'LGA'): [('6:12', '10:22', 230),\n",
       "  ('7:53', '11:37', 433),\n",
       "  ('9:08', '12:12', 364),\n",
       "  ('10:30', '14:57', 290),\n",
       "  ('12:19', '15:25', 342),\n",
       "  ('13:54', '18:02', 294),\n",
       "  ('15:44', '18:55', 382),\n",
       "  ('16:52', '20:48', 448),\n",
       "  ('18:26', '21:29', 464),\n",
       "  ('20:07', '23:27', 473)],\n",
       " ('LGA', 'CAK'): [('6:58', '9:01', 238),\n",
       "  ('8:19', '11:16', 122),\n",
       "  ('9:58', '12:56', 249),\n",
       "  ('10:32', '13:16', 139),\n",
       "  ('12:01', '13:41', 267),\n",
       "  ('13:37', '15:33', 142),\n",
       "  ('15:50', '18:45', 243),\n",
       "  ('16:33', '18:15', 253),\n",
       "  ('18:17', '21:04', 259),\n",
       "  ('19:46', '21:45', 214)],\n",
       " ('CAK', 'LGA'): [('6:08', '8:06', 224),\n",
       "  ('8:27', '10:45', 139),\n",
       "  ('9:15', '12:14', 247),\n",
       "  ('10:53', '13:36', 189),\n",
       "  ('12:08', '14:59', 149),\n",
       "  ('13:40', '15:38', 137),\n",
       "  ('15:23', '17:25', 232),\n",
       "  ('17:08', '19:08', 262),\n",
       "  ('18:35', '20:28', 204),\n",
       "  ('20:30', '23:11', 114)]}"
      ]
     },
     "execution_count": 4,
     "metadata": {},
     "output_type": "execute_result"
    }
   ],
   "source": [
    "flights"
   ]
  },
  {
   "cell_type": "code",
   "execution_count": 5,
   "metadata": {
    "scrolled": false
   },
   "outputs": [
    {
     "data": {
      "text/plain": [
       "{('LGA', 'OMA'): [('6:19', '8:13', 239),\n",
       "  ('8:04', '10:59', 136),\n",
       "  ('9:31', '11:43', 210),\n",
       "  ('11:07', '13:24', 171),\n",
       "  ('12:31', '14:02', 234),\n",
       "  ('14:05', '15:47', 226),\n",
       "  ('15:07', '17:21', 129),\n",
       "  ('16:35', '18:56', 144),\n",
       "  ('18:25', '20:34', 205),\n",
       "  ('20:05', '21:44', 172)],\n",
       " ('OMA', 'LGA'): [('6:11', '8:31', 249),\n",
       "  ('7:39', '10:24', 219),\n",
       "  ('9:15', '12:03', 99),\n",
       "  ('11:08', '13:07', 175),\n",
       "  ('12:18', '14:56', 172),\n",
       "  ('13:37', '15:08', 250),\n",
       "  ('15:03', '16:42', 135),\n",
       "  ('16:51', '19:09', 147),\n",
       "  ('18:12', '20:17', 242),\n",
       "  ('20:05', '22:06', 261)],\n",
       " ('LGA', 'ORD'): [('6:03', '8:43', 219),\n",
       "  ('7:50', '10:08', 164),\n",
       "  ('9:11', '10:42', 172),\n",
       "  ('10:33', '13:11', 132),\n",
       "  ('12:08', '14:47', 231),\n",
       "  ('14:19', '17:09', 190),\n",
       "  ('15:04', '17:23', 189),\n",
       "  ('17:06', '20:00', 95),\n",
       "  ('18:33', '20:22', 143),\n",
       "  ('19:32', '21:25', 160)],\n",
       " ('ORD', 'LGA'): [('6:05', '8:32', 174),\n",
       "  ('8:25', '10:34', 157),\n",
       "  ('9:42', '11:32', 169),\n",
       "  ('11:01', '12:39', 260),\n",
       "  ('12:44', '14:17', 134),\n",
       "  ('14:22', '16:32', 126),\n",
       "  ('15:58', '18:40', 173),\n",
       "  ('16:43', '19:00', 246),\n",
       "  ('18:48', '21:45', 246),\n",
       "  ('19:50', '22:24', 269)],\n",
       " ('LGA', 'MIA'): [('6:33', '9:14', 172),\n",
       "  ('8:23', '11:07', 143),\n",
       "  ('9:25', '12:46', 295),\n",
       "  ('11:08', '14:38', 262),\n",
       "  ('12:37', '15:05', 170),\n",
       "  ('14:08', '16:09', 232),\n",
       "  ('15:23', '18:49', 150),\n",
       "  ('16:50', '19:26', 304),\n",
       "  ('18:07', '21:30', 355),\n",
       "  ('20:27', '23:42', 169)],\n",
       " ('MIA', 'LGA'): [('6:25', '9:30', 335),\n",
       "  ('7:34', '9:40', 324),\n",
       "  ('9:15', '12:29', 225),\n",
       "  ('11:28', '14:40', 248),\n",
       "  ('12:05', '15:30', 330),\n",
       "  ('14:01', '17:24', 338),\n",
       "  ('15:34', '18:11', 326),\n",
       "  ('17:07', '20:04', 291),\n",
       "  ('18:23', '21:35', 134),\n",
       "  ('19:53', '22:21', 173)],\n",
       " ('LGA', 'BOS'): [('6:39', '8:09', 86),\n",
       "  ('8:23', '10:28', 149),\n",
       "  ('9:58', '11:18', 130),\n",
       "  ('10:33', '12:03', 74),\n",
       "  ('12:08', '14:05', 142),\n",
       "  ('13:39', '15:30', 74),\n",
       "  ('15:25', '16:58', 62),\n",
       "  ('17:03', '18:03', 103),\n",
       "  ('18:24', '20:49', 124),\n",
       "  ('19:58', '21:23', 142)],\n",
       " ('BOS', 'LGA'): [('6:17', '8:26', 89),\n",
       "  ('8:04', '10:11', 95),\n",
       "  ('9:45', '11:50', 172),\n",
       "  ('11:16', '13:29', 83),\n",
       "  ('12:34', '15:02', 109),\n",
       "  ('13:40', '15:37', 138),\n",
       "  ('15:27', '17:18', 151),\n",
       "  ('17:11', '18:30', 108),\n",
       "  ('18:34', '19:36', 136),\n",
       "  ('20:17', '22:22', 102)],\n",
       " ('LGA', 'DAL'): [('6:09', '9:49', 414),\n",
       "  ('7:57', '11:15', 347),\n",
       "  ('9:49', '13:51', 229),\n",
       "  ('10:51', '14:16', 256),\n",
       "  ('12:20', '16:34', 500),\n",
       "  ('14:20', '17:32', 332),\n",
       "  ('15:49', '20:10', 497),\n",
       "  ('17:14', '20:59', 277),\n",
       "  ('18:44', '22:42', 351),\n",
       "  ('19:57', '23:15', 512)],\n",
       " ('DAL', 'LGA'): [('6:12', '10:22', 230),\n",
       "  ('7:53', '11:37', 433),\n",
       "  ('9:08', '12:12', 364),\n",
       "  ('10:30', '14:57', 290),\n",
       "  ('12:19', '15:25', 342),\n",
       "  ('13:54', '18:02', 294),\n",
       "  ('15:44', '18:55', 382),\n",
       "  ('16:52', '20:48', 448),\n",
       "  ('18:26', '21:29', 464),\n",
       "  ('20:07', '23:27', 473)],\n",
       " ('LGA', 'CAK'): [('6:58', '9:01', 238),\n",
       "  ('8:19', '11:16', 122),\n",
       "  ('9:58', '12:56', 249),\n",
       "  ('10:32', '13:16', 139),\n",
       "  ('12:01', '13:41', 267),\n",
       "  ('13:37', '15:33', 142),\n",
       "  ('15:50', '18:45', 243),\n",
       "  ('16:33', '18:15', 253),\n",
       "  ('18:17', '21:04', 259),\n",
       "  ('19:46', '21:45', 214)],\n",
       " ('CAK', 'LGA'): [('6:08', '8:06', 224),\n",
       "  ('8:27', '10:45', 139),\n",
       "  ('9:15', '12:14', 247),\n",
       "  ('10:53', '13:36', 189),\n",
       "  ('12:08', '14:59', 149),\n",
       "  ('13:40', '15:38', 137),\n",
       "  ('15:23', '17:25', 232),\n",
       "  ('17:08', '19:08', 262),\n",
       "  ('18:35', '20:28', 204),\n",
       "  ('20:30', '23:11', 114)]}"
      ]
     },
     "execution_count": 5,
     "metadata": {},
     "output_type": "execute_result"
    }
   ],
   "source": [
    "flights"
   ]
  },
  {
   "cell_type": "code",
   "execution_count": 6,
   "metadata": {},
   "outputs": [
    {
     "name": "stdout",
     "output_type": "stream",
     "text": [
      "dict_keys([('LGA', 'OMA'), ('OMA', 'LGA'), ('LGA', 'ORD'), ('ORD', 'LGA'), ('LGA', 'MIA'), ('MIA', 'LGA'), ('LGA', 'BOS'), ('BOS', 'LGA'), ('LGA', 'DAL'), ('DAL', 'LGA'), ('LGA', 'CAK'), ('CAK', 'LGA')])\n"
     ]
    }
   ],
   "source": [
    "# origins and destinations\n",
    "print(flights.keys())"
   ]
  },
  {
   "cell_type": "code",
   "execution_count": 7,
   "metadata": {},
   "outputs": [
    {
     "data": {
      "text/plain": [
       "[('6:17', '8:26', 89),\n",
       " ('8:04', '10:11', 95),\n",
       " ('9:45', '11:50', 172),\n",
       " ('11:16', '13:29', 83),\n",
       " ('12:34', '15:02', 109),\n",
       " ('13:40', '15:37', 138),\n",
       " ('15:27', '17:18', 151),\n",
       " ('17:11', '18:30', 108),\n",
       " ('18:34', '19:36', 136),\n",
       " ('20:17', '22:22', 102)]"
      ]
     },
     "execution_count": 7,
     "metadata": {},
     "output_type": "execute_result"
    }
   ],
   "source": [
    "# extract all flights from origin to destination\n",
    "flights[('BOS','LGA')]"
   ]
  },
  {
   "cell_type": "code",
   "execution_count": null,
   "metadata": {},
   "outputs": [],
   "source": []
  },
  {
   "cell_type": "markdown",
   "metadata": {},
   "source": [
    "It’s also useful at this point to define a utility function, getminutes , which calculates\n",
    "how many minutes into the day a given time is. This makes it easy to calculate flight\n",
    "times and waiting times."
   ]
  },
  {
   "cell_type": "code",
   "execution_count": 8,
   "metadata": {},
   "outputs": [
    {
     "name": "stdout",
     "output_type": "stream",
     "text": [
      "time.struct_time(tm_year=1900, tm_mon=1, tm_mday=1, tm_hour=22, tm_min=10, tm_sec=0, tm_wday=0, tm_yday=1, tm_isdst=-1)\n"
     ]
    }
   ],
   "source": [
    "t= '22:10'\n",
    "print(time.strptime(t ,'%H:%M')) # '%H:%M' is the time format string"
   ]
  },
  {
   "cell_type": "code",
   "execution_count": 9,
   "metadata": {},
   "outputs": [],
   "source": [
    "def getminutes(t):\n",
    "  x = time.strptime(t,'%H:%M')\n",
    "  return x[3] * 60 + x[4]\n"
   ]
  },
  {
   "cell_type": "code",
   "execution_count": 10,
   "metadata": {},
   "outputs": [
    {
     "data": {
      "text/plain": [
       "1330"
      ]
     },
     "execution_count": 10,
     "metadata": {},
     "output_type": "execute_result"
    }
   ],
   "source": [
    "getminutes(t)"
   ]
  },
  {
   "cell_type": "code",
   "execution_count": null,
   "metadata": {},
   "outputs": [],
   "source": []
  },
  {
   "cell_type": "markdown",
   "metadata": {},
   "source": [
    "The challenge now is to decide which flight each person in the family should take. \n",
    "\n",
    "Keeping total price down is a goal, but there are many other possible factors\n",
    "that the optimal solution will take into account and try to minimize, such as total\n",
    "waiting time at the airport or total flight time.\n"
   ]
  },
  {
   "cell_type": "markdown",
   "metadata": {},
   "source": [
    "# Representing Solutions\n",
    "\n",
    "When approaching a problem like this, it’s necessary to determine how a potential\n",
    "solution will be represented. The optimization functions you’ll see later are generic\n",
    "enough to work on many different types of problems, so it’s important to choose a\n",
    "simple representation that’s not specific to the group travel problem. A very common\n",
    "representation is a list of numbers. In this case, each number can represent which\n",
    "flight a person chooses to take, where 0 is the first flight of the day, 1 is the second,\n",
    "and so on. Since each person needs an outbound flight and a return flight, the length\n",
    "of this list is twice the number of people.\n",
    "\n",
    "For example, the list:\n",
    "[1,4,3,2,7,3,6,3,2,4,5,3]\n",
    "\n",
    "Represents a solution in which Seymour takes the second flight of the day from Boston to New York, and the fifth flight back to Boston on the day he returns. Franny\n",
    "takes the fourth flight from Dallas to New York, and the third flight back.\n",
    "\n",
    "Because it will be difficult to interpret solutions from this list of numbers, you’ll need\n",
    "a routine that prints all the flights that people decide to take in a nice table"
   ]
  },
  {
   "cell_type": "code",
   "execution_count": 11,
   "metadata": {},
   "outputs": [],
   "source": [
    "def printschedule(r):\n",
    "  print('Name  Origin: \\t Dep \\t Arr \\tFare  =>\\t Dep \\t Arr \\t Fare')    \n",
    "  for d in range(len(r)//2):\n",
    "    name=people[d][0]\n",
    "    origin=people[d][1]\n",
    "    out=flights[(origin,destination)][int(r[d])]\n",
    "    ret=flights[(destination,origin)][int(r[d+1])]\n",
    "    print(f'{name} {origin}:\\t{out[0]}\\t{out[1]}\\t{out[2]}\\t=>\\t{ret[0]}\\t{ret[1]}\\t{ret[2]}')"
   ]
  },
  {
   "cell_type": "markdown",
   "metadata": {},
   "source": [
    "This will print a line containing each person’s name and origin, as well as the depar-\n",
    "ture time, arrival time, and price for the outgoing and return flights."
   ]
  },
  {
   "cell_type": "code",
   "execution_count": 12,
   "metadata": {},
   "outputs": [
    {
     "name": "stdout",
     "output_type": "stream",
     "text": [
      "Name  Origin: \t Dep \t Arr \tFare  =>\t Dep \t Arr \t Fare\n",
      "Seymour BOS:\t8:04\t10:11\t95\t=>\t12:08\t14:05\t142\n",
      "Franny DAL:\t12:19\t15:25\t342\t=>\t10:51\t14:16\t256\n",
      "Zooey CAK:\t10:53\t13:36\t189\t=>\t9:58\t12:56\t249\n",
      "Walt MIA:\t9:15\t12:29\t225\t=>\t16:50\t19:26\t304\n",
      "Buddy ORD:\t16:43\t19:00\t246\t=>\t10:33\t13:11\t132\n",
      "Les OMA:\t11:08\t13:07\t175\t=>\t15:07\t17:21\t129\n"
     ]
    }
   ],
   "source": [
    "s=[1,4,3,2,7,3,6,3,2,4,5,3]\n",
    "printschedule(s)"
   ]
  },
  {
   "cell_type": "markdown",
   "metadata": {},
   "source": [
    "Even disregarding price, this schedule has some problems. In particular, since the\n",
    "family members are traveling to and from the airport together, everyone has to arrive\n",
    "at the airport at 6 a.m. for Les’s return flight, even though some of them don’t leave\n",
    "until nearly 4 p.m. To determine the best combination, the program needs a way of\n",
    "weighting the various properties of different schedules and deciding which is the\n",
    "best."
   ]
  },
  {
   "cell_type": "markdown",
   "metadata": {},
   "source": [
    "# The Cost Function\n",
    "\n",
    "The cost function is the key to solving any problem using optimization, and it’s usu-\n",
    "ally the most difficult thing to determine. The goal of any optimization algorithm is\n",
    "to find a set of inputs—flights, in this case—that minimizes the cost function, so the\n",
    "cost function has to return a value that represents how bad a solution is. There is no\n",
    "particular scale for badness; the only requirement is that the function returns larger\n",
    "values for worse solutions.\n",
    "\n",
    "Often it is difficult to determine what makes a solution good or bad across many vari-\n",
    "ables. Consider a few of the things that can be measured in the group travel example:\n",
    "\n",
    "## Price\n",
    "The total price of all the plane tickets, or possibly a weighted average that takes\n",
    "financial situations into account.\n",
    "\n",
    "## Travel time\n",
    "The total time that everyone has to spend on a plane.\n",
    "\n",
    "## Waiting time\n",
    "Time spent at the airport waiting for the other members of the party to arrive.\n",
    "\n",
    "## Departure time\n",
    "Flights that leave too early in the morning may impose an additional cost by\n",
    "requiring travelers to miss out on sleep.\n",
    "\n",
    "## Car rental period\n",
    "If the party rents a car, they must return it earlier in the day than when they\n",
    "rented it, or be forced to pay for a whole extra day.\n",
    "\n",
    "It’s not too hard to think of even more aspects of a particular schedule that could\n",
    "make the experience more or less pleasant. Any time you’re faced with finding the\n",
    "best solution to a complicated problem, you’ll need to decide what the important\n",
    "factors are. Although this can be difficult, the big advantage is that once it’s done, you can use the optimization algorithms.\n",
    "\n",
    "After choosing some variables that impose costs, you’ll need to determine how to combine them into a single number. In this example, it’s necessary to decide, for instance, how much money that time on the plane or time waiting in the airport is worth. You might decide that it's worth spending \\\\$1 for every minute saved on air travel (this translates into spending an extra \\\\$90 for a direct flight that saves an hour and a half), and \\\\$0.50 for every minute saved waiting in the airport. You could also add the cost of an extra day of car rental if everyone returns to the airport at a later time of the day than when they first rented the car.\n",
    "\n",
    "There are a huge number of possibilities for the getcost function defined here. This function takes into account the total cost of the trip and the total time spent waiting at airports for the various members of the family. It also adds a penalty of \\$50 if the car is returned at a later time of the day than when it was rented."
   ]
  },
  {
   "cell_type": "code",
   "execution_count": 13,
   "metadata": {},
   "outputs": [],
   "source": [
    "def schedulecost(sol):\n",
    "  \n",
    "    totalprice = 0\n",
    "    latestarrival = 0 # initialize latest arival to 0 minutes\n",
    "    earliestdep = 24*60 # initialize latest arival to minutes equal to 24 hours. \n",
    "\n",
    "    for d in range(len(sol)//2): # devide the length of solution list(12)  into half (6) for 6 persons\n",
    "    \n",
    "        # Get the inbound and outbound flights\n",
    "        origin=people[d][1] # get origin of a person\n",
    "    \n",
    "        # get the outboung flight according to solution\n",
    "        outbound = flights[(origin,destination)][int(sol[d])]     \n",
    "        # get the return flight according to solution\n",
    "        returnf = flights[(destination,origin)][int(sol[d+1])] \n",
    "    \n",
    "        # Total price is the price of all outbound and return flights\n",
    "        totalprice += outbound[2]\n",
    "        totalprice += returnf[2]\n",
    "    \n",
    "        # Track the latest arrival and earliest departure\n",
    "        # update latest arrival if needed\n",
    "        if latestarrival < getminutes(outbound[1]): latestarrival = getminutes(outbound[1])\n",
    "        # update earliest departure if needed\n",
    "        if earliestdep>getminutes(returnf[0]): earliestdep=getminutes(returnf[0])\n",
    "  \n",
    "    # Every person must wait at the airport until the latest person arrives.\n",
    "    # They also must arrive at the same time and wait for their flights.\n",
    "  \n",
    "    totalwait = 0  # initialize total wait to zero\n",
    "    for d in range(len(sol)//2):\n",
    "        origin = people[d][1]\n",
    "        outbound = flights[(origin,destination)][int(sol[d])]\n",
    "        returnf = flights[(destination,origin)][int(sol[d+1])]\n",
    "        totalwait += latestarrival - getminutes(outbound[1])\n",
    "        totalwait += getminutes(returnf[0]) - earliestdep  \n",
    "\n",
    "    # Does this solution require an extra day of car rental? \n",
    "    # That'll be $50!\n",
    "    if latestarrival > earliestdep: totalprice += 50\n",
    "  \n",
    "    return totalprice + totalwait"
   ]
  },
  {
   "cell_type": "markdown",
   "metadata": {},
   "source": [
    "The logic in this function is quite simplistic, but it illustrates the point. It can be\n",
    "enhanced in several ways—right now, the total wait time assumes that all the family\n",
    "members will leave the airport together when the last person arrives, and will all go\n",
    "to the airport for the earliest departure. This can be modified so that anyone facing a\n",
    "two-hour or longer wait rents his own car instead, and the prices and waiting time\n",
    "can be adjusted accordingly."
   ]
  },
  {
   "cell_type": "code",
   "execution_count": 14,
   "metadata": {},
   "outputs": [
    {
     "name": "stdout",
     "output_type": "stream",
     "text": [
      "Name  Origin: \t Dep \t Arr \tFare  =>\t Dep \t Arr \t Fare\n",
      "Seymour BOS:\t8:04\t10:11\t95\t=>\t12:08\t14:05\t142\n",
      "Franny DAL:\t12:19\t15:25\t342\t=>\t10:51\t14:16\t256\n",
      "Zooey CAK:\t10:53\t13:36\t189\t=>\t9:58\t12:56\t249\n",
      "Walt MIA:\t9:15\t12:29\t225\t=>\t16:50\t19:26\t304\n",
      "Buddy ORD:\t16:43\t19:00\t246\t=>\t10:33\t13:11\t132\n",
      "Les OMA:\t11:08\t13:07\t175\t=>\t15:07\t17:21\t129\n"
     ]
    },
    {
     "data": {
      "text/plain": [
       "5285"
      ]
     },
     "execution_count": 14,
     "metadata": {},
     "output_type": "execute_result"
    }
   ],
   "source": [
    "printschedule(s)\n",
    "schedulecost(s)"
   ]
  },
  {
   "cell_type": "markdown",
   "metadata": {},
   "source": [
    "Now that the cost function has been created, it should be clear that the goal is to\n",
    "minimize cost by choosing the correct set of numbers. In theory, you could try every\n",
    "possible combination, but in this example there are 16 flights, all with 9 possibilities,\n",
    "giving a total of 9 16 (around 300 billion) combinations. Testing every combination\n",
    "would guarantee you’d get the best answer, but it would take a very long time on\n",
    "most computers."
   ]
  },
  {
   "cell_type": "markdown",
   "metadata": {},
   "source": [
    "# Random Searching\n",
    "Random searching isn’t a very good optimization method, but it makes it easy to\n",
    "understand exactly what all the algorithms are trying to do, and it also serves as a\n",
    "baseline so you can see if the other algorithms are doing a good job.\n",
    "\n",
    "The function takes a couple of parameters. Domain is a list of 2-tuples that specify the\n",
    "minimum and maximum values for each variable. The length of the solution is the\n",
    "same as the length of this list. In the current example, there are nine outbound flights\n",
    "and nine inbound flights for every person, so the domain in the list is (0,8) repeated\n",
    "twice for each person.\n",
    "\n",
    "The second parameter, costf , is the cost function, which in this example will be\n",
    "schedulecost . This is passed as a parameter so that the function can be reused for\n",
    "other optimization problems. This function randomly generates 1,000 guesses and\n",
    "calls costf on them. It keeps track of the best guess (the one with the lowest cost)\n",
    "and returns it."
   ]
  },
  {
   "cell_type": "code",
   "execution_count": 15,
   "metadata": {},
   "outputs": [],
   "source": [
    "def randomoptimize(domain,costf):\n",
    "    best = 999999999\n",
    "    bestr = None\n",
    "    for i in range(0,1000):\n",
    "        # Create a random solution\n",
    "        r = [float(random.randint(domain[i][0] , domain[i][1])) \n",
    "        for i in range(len(domain))]\n",
    "    \n",
    "    # Get the cost\n",
    "        cost = costf(r)\n",
    "    \n",
    "    # Compare it to the best one so far\n",
    "    if cost < best:\n",
    "        best = cost\n",
    "        bestr = r \n",
    "    return r"
   ]
  },
  {
   "cell_type": "markdown",
   "metadata": {},
   "source": [
    "Of course, 1,000 guesses is a very small fraction of the total number of possibilities.\n",
    "However, this example has many possibilities that are good (if not the best), so with\n",
    "a thousand tries, the function will likely come across a solution that isn’t awful."
   ]
  },
  {
   "cell_type": "code",
   "execution_count": 16,
   "metadata": {},
   "outputs": [
    {
     "name": "stdout",
     "output_type": "stream",
     "text": [
      "Name  Origin: \t Dep \t Arr \tFare  =>\t Dep \t Arr \t Fare\n",
      "Seymour BOS:\t18:34\t19:36\t136\t=>\t10:33\t12:03\t74\n",
      "Franny DAL:\t10:30\t14:57\t290\t=>\t10:51\t14:16\t256\n",
      "Zooey CAK:\t10:53\t13:36\t189\t=>\t9:58\t12:56\t249\n",
      "Walt MIA:\t9:15\t12:29\t225\t=>\t16:50\t19:26\t304\n",
      "Buddy ORD:\t16:43\t19:00\t246\t=>\t9:11\t10:42\t172\n",
      "Les OMA:\t9:15\t12:03\t99\t=>\t14:05\t15:47\t226\n",
      "cost: 5053\n"
     ]
    }
   ],
   "source": [
    "domain = [(0,8)]*(len(people)*2)\n",
    "#print(domain)\n",
    "s = randomoptimize(domain, schedulecost)\n",
    "printschedule(s)\n",
    "print(f'cost: {schedulecost(s)}')\n"
   ]
  },
  {
   "cell_type": "markdown",
   "metadata": {},
   "source": [
    "Due to the random element, results will be different. Try running this function\n",
    "several times to see if the cost changes very much, or try increasing the loop size to\n",
    "10,000 to see if you find better results that way."
   ]
  },
  {
   "cell_type": "markdown",
   "metadata": {},
   "source": [
    "# Hill Climbing\n",
    "\n",
    "You can apply hill climbing approach to the task of finding the best travel\n",
    "schedule for the Glass family. Start with a random schedule and find all the neigh-\n",
    "boring schedules. In this case, that means finding all the schedules that have one per-\n",
    "son on a slightly earlier or slightly later flight. The cost is calculated for each of the\n",
    "neighboring schedules, and the one with the lowest cost becomes the new solution.\n",
    "This process is repeated until none of the neighboring schedules improves the cost."
   ]
  },
  {
   "cell_type": "code",
   "execution_count": 17,
   "metadata": {},
   "outputs": [],
   "source": [
    "def hillclimb(domain,costf):\n",
    "    # Create a random solution\n",
    "    sol = [random.randint(domain[i][0],domain[i][1])\n",
    "      for i in range(len(domain))]\n",
    "    # Main loop\n",
    "    while 1:\n",
    "        # Create list of neighboring solutions\n",
    "        neighbors = []\n",
    "    \n",
    "        for j in range(len(domain)):\n",
    "            # One away in each direction\n",
    "            if sol[j] > domain[j][0]:\n",
    "                neighbors.append(sol[0:j] + [sol[j] +1] + sol[j + 1:])\n",
    "            if sol[j] < domain[j][1]:\n",
    "                neighbors.append(sol[0:j] + [sol[j] - 1] + sol[j + 1:])\n",
    "\n",
    "        # See what the best solution amongst the neighbors is\n",
    "        current=costf(sol)\n",
    "        best=current\n",
    "        for j in range(len(neighbors)):\n",
    "            cost = costf(neighbors[j])\n",
    "            if cost < best:\n",
    "                best = cost\n",
    "                sol = neighbors[j]\n",
    "\n",
    "        # If there's no improvement, then we've reached the top\n",
    "        if best==current:\n",
    "            break\n",
    "    return sol"
   ]
  },
  {
   "cell_type": "markdown",
   "metadata": {},
   "source": [
    "This function generates a random list of numbers within the given domain to create\n",
    "the initial solution. It finds all the neighbors for the current solution by looping over\n",
    "every element in the list and then creating two new lists with that element increased\n",
    "by one and decreased by one. The best of these neighbors becomes the new solution."
   ]
  },
  {
   "cell_type": "code",
   "execution_count": 18,
   "metadata": {},
   "outputs": [
    {
     "name": "stdout",
     "output_type": "stream",
     "text": [
      "Name  Origin: \t Dep \t Arr \tFare  =>\t Dep \t Arr \t Fare\n",
      "Seymour BOS:\t12:34\t15:02\t109\t=>\t10:33\t12:03\t74\n",
      "Franny DAL:\t10:30\t14:57\t290\t=>\t10:51\t14:16\t256\n",
      "Zooey CAK:\t10:53\t13:36\t189\t=>\t10:32\t13:16\t139\n",
      "Walt MIA:\t11:28\t14:40\t248\t=>\t12:37\t15:05\t170\n",
      "Buddy ORD:\t12:44\t14:17\t134\t=>\t6:03\t8:43\t219\n",
      "Les OMA:\t6:11\t8:31\t249\t=>\t6:19\t8:13\t239\n",
      "cost: 4152\n"
     ]
    }
   ],
   "source": [
    "s = hillclimb(domain, schedulecost)\n",
    "printschedule(s)\n",
    "print(f'cost: {schedulecost(s)}')"
   ]
  },
  {
   "cell_type": "markdown",
   "metadata": {},
   "source": [
    "This function runs quickly and usually finds a better solution than randomly searching."
   ]
  },
  {
   "cell_type": "markdown",
   "metadata": {},
   "source": [
    "# Simulated Annealing\n",
    "Simulated annealing is an optimization method inspired by physics. Annealing is the\n",
    "process of heating up an alloy and then cooling it down slowly. Because the atoms\n",
    "are first made to jump around a lot and then gradually settle into a low energy state,\n",
    "the atoms can find a low energy configuration.\n",
    "\n",
    "The algorithm version of annealing begins with a random solution to the problem. It\n",
    "uses a variable representing the temperature, which starts very high and gradually\n",
    "gets lower. In each iteration, one of the numbers in the solution is randomly chosen\n",
    "and changed in a certain direction. In our example, Seymour’s return flight might be\n",
    "moved from the second of the day to the third. The cost is calculated before and after\n",
    "the change, and the costs are compared.\n",
    "\n",
    "Here’s the important part: if the new cost is lower, the new solution becomes the\n",
    "current solution, which is very much like the hill-climbing method. However, if the\n",
    "cost is higher, the new solution can still become the current solution with a certain\n",
    "probability. This is an attempt to avoid the local minimum problem.\n",
    "\n",
    "In some cases, it’s necessary to move to a worse solution before you can get to a better one. Simulated annealing works because it will always accept a move for the\n",
    "better, and because it is willing to accept a worse solution near the beginning of the\n",
    "process. As the process goes on, the algorithm becomes less and less likely to accept\n",
    "a worse solution, until at the end it will only accept a better solution. The probability of a higher-cost solution being accepted is given by this formula:\n",
    "\n",
    "   $$ p = e^\\frac{-highcost-lowcost}{temperature} $$\n",
    "\n",
    "Since the temperature (the willingness to accept a worse solution) starts very high,\n",
    "the exponent will always be close to 0, so the probability will almost be 1. As the\n",
    "temperature decreases, the difference between the high cost and the low cost\n",
    "becomes more important—a bigger difference leads to a lower probability, so the\n",
    "algorithm will favor only slightly worse solutions over much worse ones."
   ]
  },
  {
   "cell_type": "code",
   "execution_count": 19,
   "metadata": {},
   "outputs": [],
   "source": [
    "def annealingoptimize(domain,costf,T=10000.0,cool=0.95,step=1):\n",
    "    # Initialize the values randomly\n",
    "    vec = [float(random.randint(domain[i][0],domain[i][1])) \n",
    "       for i in range(len(domain))]\n",
    "  \n",
    "    while T>0.1:\n",
    "        # Choose one of the indices\n",
    "        i = random.randint(0,len(domain)-1)\n",
    "\n",
    "        # Choose a direction to change it\n",
    "        dir = random.randint(-step,step)\n",
    "\n",
    "        # Create a new list with one of the values changed\n",
    "        vecb = vec[:] # make o copy of the state or solution\n",
    "        vecb[i] += dir #add the step to modify the state to create a new state\n",
    "        \n",
    "        # if new solution is invalid set to maximum and mininum domain\n",
    "        if vecb[i] < domain[i][0]: vecb[i] = domain[i][0] \n",
    "        elif vecb[i] > domain[i][1]: vecb[i] = domain[i][1]\n",
    "\n",
    "        # Calculate the current cost and the new cost\n",
    "        ea = costf(vec)\n",
    "        eb = costf(vecb)\n",
    "        p = pow(math.e,( -eb -ea)/T)\n",
    "\n",
    "        # Is it better, or does it make the probability\n",
    "        # cutoff?\n",
    "        if (eb < ea or random.random() < p):\n",
    "            vec = vecb      \n",
    "\n",
    "        # Decrease the temperature by the cooling factor\n",
    "        T = T * cool\n",
    "    return vec"
   ]
  },
  {
   "cell_type": "markdown",
   "metadata": {},
   "source": [
    "To do annealing, this function first creates a random solution of the right length with\n",
    "all the values in the range specified by the domain parameter. The temperature and\n",
    "the cooling rate are optional parameters. In each iteration, i is set to a random index\n",
    "of the solution, and dir is set to a random number between - step and step. It calculates the current function cost and the cost if it were to change the value at i by dir.\n",
    "The probability calculation gets lower as T gets lower. If a random float between 0 and 1 is less than this value, or if the new solution is better, the function accepts the new solution. The function loops until the\n",
    "temperature has almost reached 0, each time multiplying it by the cooling rate."
   ]
  },
  {
   "cell_type": "code",
   "execution_count": 20,
   "metadata": {},
   "outputs": [
    {
     "name": "stdout",
     "output_type": "stream",
     "text": [
      "Name  Origin: \t Dep \t Arr \tFare  =>\t Dep \t Arr \t Fare\n",
      "Seymour BOS:\t17:11\t18:30\t108\t=>\t13:39\t15:30\t74\n",
      "Franny DAL:\t13:54\t18:02\t294\t=>\t14:20\t17:32\t332\n",
      "Zooey CAK:\t13:40\t15:38\t137\t=>\t13:37\t15:33\t142\n",
      "Walt MIA:\t14:01\t17:24\t338\t=>\t15:23\t18:49\t150\n",
      "Buddy ORD:\t15:58\t18:40\t173\t=>\t15:04\t17:23\t189\n",
      "Les OMA:\t15:03\t16:42\t135\t=>\t15:07\t17:21\t129\n",
      "cost: 3003\n"
     ]
    }
   ],
   "source": [
    "s = annealingoptimize(domain ,schedulecost)\n",
    "printschedule(s)\n",
    "print(f'cost: {schedulecost(s)}')"
   ]
  },
  {
   "cell_type": "markdown",
   "metadata": {},
   "source": [
    "This optimization did a good job of reducing the overall wait times while keeping the costs down. Obviously, your results will be different, and there is a chance that they will be worse. For any given problem, it’s a good idea to experiment with different parameters for the initial temperature and the cooling rate. You can also vary the possible step size for the random movements."
   ]
  },
  {
   "cell_type": "markdown",
   "metadata": {},
   "source": [
    "# Genetic Algorithm"
   ]
  },
  {
   "cell_type": "code",
   "execution_count": 28,
   "metadata": {},
   "outputs": [],
   "source": [
    "def geneticoptimize(domain, costf, popsize = 50, step = 1,\n",
    "                    mutprob = 0.2, elite = 0.2, maxiter = 500):\n",
    " \n",
    "    # Mutation Operation\n",
    "\n",
    "    def mutate(vec):\n",
    "        i=random.randint(0,len(domain)-1)\n",
    "        if random.random()<0.5 and vec[i]>domain[i][0]:\n",
    "            return vec[0:i]+[vec[i]-step]+vec[i+1:] \n",
    "        elif vec[i]<domain[i][1]:\n",
    "            return vec[0:i]+[vec[i]+step]+vec[i+1:]\n",
    "  \n",
    "    # Crossover Operation\n",
    "    def crossover(r1,r2):\n",
    "        i=random.randint(1,len(domain)-2)\n",
    "        return r1[0:i]+r2[i:]\n",
    "\n",
    "    \n",
    "    # Build the initial population\n",
    "    pop=[]\n",
    "    for i in range(popsize):\n",
    "        vec=[random.randint(domain[i][0],domain[i][1]) \n",
    "        for i in range(len(domain))]\n",
    "        pop.append(vec)\n",
    "  \n",
    "    # How many winners from each generation?\n",
    "    topelite=int(elite*popsize)\n",
    "  \n",
    "      # Main loop \n",
    "    for i in range(maxiter):\n",
    "        scores=[(costf(v),v) for v in pop]\n",
    "        scores.sort()\n",
    "        ranked=[v for (s,v) in scores]\n",
    "    \n",
    "    # Start with the pure winners\n",
    "    pop=ranked[0:topelite]\n",
    "    \n",
    "    # Add mutated and bred forms of the winners\n",
    "    while len(pop)<popsize:\n",
    "        if random.random() < mutprob:\n",
    "            # Mutation\n",
    "            c=random.randint(0,topelite)\n",
    "            pop.append(mutate(ranked[c]))\n",
    "        else:\n",
    "      \n",
    "            # Crossover\n",
    "            c1=random.randint(0,topelite)\n",
    "            c2=random.randint(0,topelite)\n",
    "            pop.append(crossover(ranked[c1],ranked[c2]))\n",
    "    \n",
    "    # Print current best score\n",
    "    #print(scores[0][0])\n",
    "    \n",
    "    return scores[0][1]"
   ]
  },
  {
   "cell_type": "code",
   "execution_count": 29,
   "metadata": {},
   "outputs": [],
   "source": [
    "s = geneticoptimize(domain, schedulecost)"
   ]
  },
  {
   "cell_type": "code",
   "execution_count": 30,
   "metadata": {},
   "outputs": [
    {
     "name": "stdout",
     "output_type": "stream",
     "text": [
      "Name  Origin: \t Dep \t Arr \tFare  =>\t Dep \t Arr \t Fare\n",
      "Seymour BOS:\t8:04\t10:11\t95\t=>\t9:58\t11:18\t130\n",
      "Franny DAL:\t9:08\t12:12\t364\t=>\t10:51\t14:16\t256\n",
      "Zooey CAK:\t10:53\t13:36\t189\t=>\t10:32\t13:16\t139\n",
      "Walt MIA:\t11:28\t14:40\t248\t=>\t12:37\t15:05\t170\n",
      "Buddy ORD:\t12:44\t14:17\t134\t=>\t12:08\t14:47\t231\n",
      "Les OMA:\t12:18\t14:56\t172\t=>\t11:07\t13:24\t171\n",
      "\n",
      "cost: 3378\n"
     ]
    }
   ],
   "source": [
    "printschedule(s)\n",
    "print()\n",
    "print(f'cost: {schedulecost(s)}')"
   ]
  },
  {
   "cell_type": "code",
   "execution_count": null,
   "metadata": {},
   "outputs": [],
   "source": []
  }
 ],
 "metadata": {
  "kernelspec": {
   "display_name": "Python 3 (ipykernel)",
   "language": "python",
   "name": "python3"
  },
  "language_info": {
   "codemirror_mode": {
    "name": "ipython",
    "version": 3
   },
   "file_extension": ".py",
   "mimetype": "text/x-python",
   "name": "python",
   "nbconvert_exporter": "python",
   "pygments_lexer": "ipython3",
   "version": "3.9.12"
  }
 },
 "nbformat": 4,
 "nbformat_minor": 2
}
