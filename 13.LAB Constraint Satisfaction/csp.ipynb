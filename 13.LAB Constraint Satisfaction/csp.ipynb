{
 "cells": [
  {
   "attachments": {},
   "cell_type": "markdown",
   "metadata": {},
   "source": [
    "# Constraint Satisfaction Problems\n",
    "\n",
    "A large number of problems that computational tools are used to solve can be\n",
    "broadly categorized as constraint-satisfaction problems (CSPs). CSPs are composed\n",
    "of variables with possible values that fall into ranges known as domains. Constraints\n",
    "between the variables must be satisfied in order for constraint-satisfaction problems\n",
    "to be solved. Those three core concepts—variables, domains, and constraints—are\n",
    "simple to understand, and their generality underlies the wide applicability of\n",
    "constraint-satisfaction problem solving.\n",
    "\n",
    "Let's consider an example problem. Suppose you are trying to schedule a Friday\n",
    "meeting for Joe, Mary, and Sue. Sue has to be at the meeting with at least one other\n",
    "person. For this scheduling problem, the three people—Joe, Mary, and Sue—may\n",
    "be the variables. The domain for each variable may be their respective hours of\n",
    "availability. For instance, the variable Mary has the domain 2 p.m., 3 p.m., and\n",
    "4 p.m. This problem also has two constraints. One is that Sue has to be at the meeting. The other is that at least two people must attend the meeting. A constraint satisfaction problem solver will be provided with the three variables, three domains,and two constraints, and it will then solve the problem without having the user\n",
    "explain exactly how. Following figure illustrates this example.\n",
    "\n",
    "\n",
    "![Figure 1](image1.png)\n"
   ]
  },
  {
   "cell_type": "markdown",
   "metadata": {},
   "source": [
    "## Building a constraint-satisfaction problem framework\n",
    "\n",
    "Constraints will be defined using a Constraint class. Each Constraint consists of the\n",
    "variables it constrains and a method that checks whether it is satisfied(). The\n",
    "determination of whether a constraint is satisfied is the main logic that goes into\n",
    "defining a specific constraint-satisfaction problem. The default implementation\n",
    "should be overridden. In fact, it must be, because we are defining our Constraint\n",
    "class as an abstract base class. Abstract base classes are not meant to be instantiated.\n",
    "Instead, only their subclasses that override and implement their @abstractmethods\n",
    "are for actual use."
   ]
  },
  {
   "cell_type": "code",
   "execution_count": 1,
   "metadata": {},
   "outputs": [],
   "source": [
    "from abc import ABC, abstractmethod\n",
    "\n",
    "# Base class for all constraints\n",
    "\n",
    "\n",
    "class Constraint(ABC):\n",
    "    # The variables that the constraint is between\n",
    "    def __init__(self, variables):\n",
    "        self.variables = variables\n",
    "\n",
    "    # Must be overridden by subclasses\n",
    "    @abstractmethod\n",
    "    def satisfied(self, assignment):\n",
    "        ..."
   ]
  },
  {
   "cell_type": "markdown",
   "metadata": {},
   "source": [
    "The centerpiece of our constraint-satisfaction framework will be a class called CSP. CSP\n",
    "is the gathering point for variables, domains, and constraints. In terms of its type\n",
    "hints, it uses generics to make itself flexible enough to work with any kind of variables\n",
    "and domain values (V keys and D domain values). Within CSP, the variables, domains,\n",
    "and constraints collections are of types that you would expect. The variables collection\n",
    "is a list of variables, domains is a dict mapping variables to lists of possible\n",
    "values (the domains of those variables), and constraints is a dict that maps each\n",
    "variable to a list of the constraints imposed on it.\n",
    "\n",
    "The __init__() initializer creates the constraints dict. The add_constraint()\n",
    "method goes through all of the variables touched by a given constraint and adds itself to\n",
    "the constraints mapping for each of them. Both methods have basic error-checking in\n",
    "place and will raise an exception when a variable is missing a domain or a constraint\n",
    "is on a nonexistent variable.\n",
    "How do we know if a given configuration of variables and selected domain values\n",
    "satisfies the constraints? We will call such a given configuration an \"assignment.\" We\n",
    "need a function that checks every constraint for a given variable against an assignment\n",
    "to see if the variable's value in the assignment works for the constraints. Here, we\n",
    "implement a consistent() function as a method on CSP."
   ]
  },
  {
   "cell_type": "markdown",
   "metadata": {},
   "source": [
    "consistent() goes through every constraint for a given variable (it will always be the\n",
    "variable that was just added to the assignment) and checks if the constraint is satisfied,\n",
    "given the new assignment. If the assignment satisfies every constraint, True is\n",
    "returned. If any constraint imposed on the variable is not satisfied, False is returned."
   ]
  },
  {
   "cell_type": "markdown",
   "metadata": {},
   "source": [
    "This constraint-satisfaction framework will use a simple backtracking search to find\n",
    "solutions to problems. Backtracking is the idea that once you hit a wall in your search, you\n",
    "go back to the last known point where you made a decision before the wall, and choose\n",
    "a different path. If you think that sounds like depth-first search from chapter 2, you are\n",
    "perceptive. The backtracking search implemented in the following backtracking_\n",
    "search() function is a kind of recursive depth-first search"
   ]
  },
  {
   "cell_type": "code",
   "execution_count": 2,
   "metadata": {},
   "outputs": [],
   "source": [
    "# A constraint satisfaction problem consists of variables of type V\n",
    "# that have ranges of values known as domains of type D and constraints\n",
    "# that determine whether a particular variable's domain selection is valid\n",
    "\n",
    "\n",
    "class CSP():\n",
    "    def __init__(self, variables, domains):\n",
    "        self.variables = variables  # variables to be constrained\n",
    "        self.domains = domains  # domain of each variable\n",
    "        self.constraints = {}\n",
    "        for variable in self.variables:\n",
    "            self.constraints[variable] = []\n",
    "            if variable not in self.domains:\n",
    "                raise LookupError(\n",
    "                    \"Every variable should have a domain assigned to it.\")\n",
    "\n",
    "    def add_constraint(self, constraint):\n",
    "        for variable in constraint.variables:\n",
    "            if variable not in self.variables:\n",
    "                raise LookupError(\"Variable in constraint not in CSP\")\n",
    "            else:\n",
    "                self.constraints[variable].append(constraint)\n",
    "\n",
    "    # Check if the value assignment is consistent by checking all constraints\n",
    "    # for the given variable against it\n",
    "    def consistent(self, variable, assignment):\n",
    "        for constraint in self.constraints[variable]:\n",
    "            if not constraint.satisfied(assignment):\n",
    "                return False\n",
    "        return True\n",
    "\n",
    "    def backtracking_search(self, assignment={}):\n",
    "        # assignment is complete if every variable is assigned (our base case)\n",
    "        if len(assignment) == len(self.variables):\n",
    "            return assignment\n",
    "\n",
    "        # get all variables in the CSP but not in the assignment\n",
    "        unassigned = [v for v in self.variables if v not in assignment]\n",
    "\n",
    "        # get the every possible domain value of the first unassigned variable\n",
    "        first = unassigned[0]\n",
    "        for value in self.domains[first]:\n",
    "            local_assignment = assignment.copy()\n",
    "            local_assignment[first] = value\n",
    "            # if we're still consistent, we recurse (continue)\n",
    "            if self.consistent(first, local_assignment):\n",
    "                result: Optional = self.backtracking_search(local_assignment)\n",
    "                # if we didn't find the result, we will end up backtracking\n",
    "                if result is not None:\n",
    "                    return result\n",
    "        return None"
   ]
  },
  {
   "cell_type": "markdown",
   "metadata": {},
   "source": [
    "Let’s walk through backtracking_search(), line by line.\n",
    "\n",
    "```python\n",
    "if len(assignment) == len(self.variables):\n",
    "return assignment\n",
    "```\n",
    "The base case for the recursive search is having found a valid assignment for every\n",
    "variable. Once we have, we return the first instance of a solution that was valid. (We do\n",
    "not keep searching.)\n",
    "\n",
    "```python\n",
    "unassigned: List[V] = [v for v in self.variables if v not in assignment]\n",
    "first: V = unassigned[0]\n",
    "```\n",
    "\n",
    "To select a new variable whose domain we will explore, we simply go through all of the\n",
    "variables and find the first that does not have an assignment. To do this, we create a\n",
    "list of variables in self.variables but not in assignment through a list comprehension,\n",
    "and call it unassigned. Then we pull out the first value in unassigned.\n",
    "\n",
    "```python\n",
    "for value in self.domains[first]:\n",
    "local_assignment = assignment.copy()\n",
    "local_assignment[first] = value\n",
    "```\n",
    "\n",
    "We try assigning all possible domain values for that variable, one at a time. The new\n",
    "assignment for each is stored in a local dictionary called local_assignment.\n",
    "if self.consistent(first, local_assignment):\n",
    "\n",
    "```python\n",
    "result: Optional[Dict[V, D]] = self.backtracking_search(local_assignment)\n",
    "if result is not None:\n",
    "return result\n",
    "```\n",
    "\n",
    "If the new assignment in local_assignment is consistent with all of the constraints\n",
    "(that is what consistent() checks for), we continue recursively searching with the\n",
    "new assignment in place. If the new assignment turns out to be complete (the base\n",
    "case), we return the new assignment up the recursion chain.\n",
    "\n",
    "```python\n",
    "return None # no solution\n",
    "```\n",
    "\n",
    "Finally, if we have gone through every possible domain value for a particular variable,\n",
    "and there is no solution utilizing the existing set of assignments, we return None, indicating\n",
    "no solution. This will lead to backtracking up the recursion chain to the point\n",
    "where a different prior assignment could have been made."
   ]
  },
  {
   "attachments": {},
   "cell_type": "markdown",
   "metadata": {},
   "source": [
    "## The Australian map-coloring problem\n",
    "\n",
    "Imagine you have a map of Australia that you want to color by state/territory (which\n",
    "we will collectively call \"regions\"). No two adjacent regions should share a color. Can\n",
    "you color the regions with just three different colors?\n",
    "\n",
    "The answer is yes. Try it out on your own. (The easiest way is to print out a map of\n",
    "Australia with a white background.) As human beings, we can quickly figure out the\n",
    "solution by inspection and a little trial and error. It is a trivial problem, really, and a\n",
    "great first problem for our backtracking constraint-satisfaction solver. The problem is\n",
    "illustrated in figure:\n",
    "\n",
    "![Figure 2](image2.png)"
   ]
  },
  {
   "cell_type": "code",
   "execution_count": 3,
   "metadata": {},
   "outputs": [],
   "source": [
    "class MapColoringConstraint(Constraint):\n",
    "    def __init__(self, place1, place2):\n",
    "        super().__init__([place1, place2])\n",
    "        self.place1 = place1\n",
    "        self.place2 = place2\n",
    "\n",
    "    def satisfied(self, assignment):\n",
    "        # If either place is not in the assignment then it is not\n",
    "        # yet possible for their colors to be conflicting\n",
    "        if self.place1 not in assignment or self.place2 not in assignment:\n",
    "            return True\n",
    "        # check the color assigned to place1 is not the same as the\n",
    "        # color assigned to place2\n",
    "        return assignment[self.place1] != assignment[self.place2]"
   ]
  },
  {
   "cell_type": "markdown",
   "metadata": {},
   "source": [
    "Lets run the code:"
   ]
  },
  {
   "cell_type": "code",
   "execution_count": 4,
   "metadata": {},
   "outputs": [
    {
     "name": "stdout",
     "output_type": "stream",
     "text": [
      "{'Western Australia': 'red', 'Northern Territory': 'green', 'South Australia': 'blue', 'Queensland': 'red', 'New South Wales': 'green', 'Victoria': 'red', 'Tasmania': 'green'}\n"
     ]
    }
   ],
   "source": [
    "variables = [\"Western Australia\", \"Northern Territory\", \"South Australia\",\n",
    "             \"Queensland\", \"New South Wales\", \"Victoria\", \"Tasmania\"]\n",
    "domains = {}\n",
    "for variable in variables:\n",
    "    domains[variable] = [\"red\", \"green\", \"blue\"]\n",
    "csp = CSP(variables, domains)\n",
    "csp.add_constraint(MapColoringConstraint(\n",
    "    \"Western Australia\", \"Northern Territory\"))\n",
    "csp.add_constraint(MapColoringConstraint(\n",
    "    \"Western Australia\", \"South Australia\"))\n",
    "csp.add_constraint(MapColoringConstraint(\n",
    "    \"South Australia\", \"Northern Territory\"))\n",
    "csp.add_constraint(MapColoringConstraint(\"Queensland\", \"Northern Territory\"))\n",
    "csp.add_constraint(MapColoringConstraint(\"Queensland\", \"South Australia\"))\n",
    "csp.add_constraint(MapColoringConstraint(\"Queensland\", \"New South Wales\"))\n",
    "csp.add_constraint(MapColoringConstraint(\"New South Wales\", \"South Australia\"))\n",
    "csp.add_constraint(MapColoringConstraint(\"Victoria\", \"South Australia\"))\n",
    "csp.add_constraint(MapColoringConstraint(\"Victoria\", \"New South Wales\"))\n",
    "csp.add_constraint(MapColoringConstraint(\"Victoria\", \"Tasmania\"))\n",
    "\n",
    "solution = csp.backtracking_search()\n",
    "if solution is None:\n",
    "    print(\"No solution found!\")\n",
    "else:\n",
    "    print(solution)"
   ]
  },
  {
   "attachments": {},
   "cell_type": "markdown",
   "metadata": {},
   "source": [
    "## The eight queens problem\n",
    "\n",
    "A chessboard is an eight-by-eight grid of squares. A queen is a chess piece that can\n",
    "move on the chessboard any number of squares along any row, column, or diagonal.\n",
    "A queen is attacking another piece if in a single move, it can move to the square the\n",
    "piece is on without jumping over any other piece. (In other words, if the other piece is\n",
    "in the line of sight of the queen, then it is attacked by it.) The eight queens problem\n",
    "poses the question of how eight queens can be placed on a chessboard without any\n",
    "queen attacking another queen. The problem is illustrated in the figure:\n",
    "\n",
    "![Figure 3](image3.png)\n",
    "\n",
    "To represent squares on the chessboard, we will assign each an integer row and an\n",
    "integer column. We can ensure each of the eight queens is not on the same column\n",
    "by simply assigning them sequentially the columns 1 through 8. The variables in our\n",
    "constraint-satisfaction problem can just be the column of the queen in question. The\n",
    "domains can be the possible rows (again, 1 through 8). \n",
    "\n",
    "To solve the problem, we will need a constraint that checks whether any two queens\n",
    "are on the same row or diagonal. (They were all assigned different sequential columns\n",
    "to begin with.) Checking for the same row is trivial, but checking for the same diagonal\n",
    "requires a little bit of math. If any two queens are on the same diagonal, the difference\n",
    "between their rows will be the same as the difference between their columns.\n",
    "Can you see where these checks take place in QueensConstraint?\n"
   ]
  },
  {
   "cell_type": "code",
   "execution_count": 5,
   "metadata": {},
   "outputs": [],
   "source": [
    "class QueensConstraint(Constraint):\n",
    "    def __init__(self, columns):\n",
    "        super().__init__(columns)\n",
    "        self.columns = columns\n",
    "\n",
    "    def satisfied(self, assignment):\n",
    "        # q1c = queen 1 column, q1r = queen 1 row\n",
    "        for q1c, q1r in assignment.items():\n",
    "            # q2c = queen 2 column\n",
    "            for q2c in range(q1c + 1, len(self.columns) + 1):\n",
    "                if q2c in assignment:\n",
    "                    q2r = assignment[q2c]  # q2r = queen 2 row\n",
    "                    if q1r == q2r:  # same row?\n",
    "                        return False\n",
    "                    if abs(q1r - q2r) == abs(q1c - q2c):  # same diagonal?\n",
    "                        return False\n",
    "        return True  # no conflict"
   ]
  },
  {
   "cell_type": "markdown",
   "metadata": {},
   "source": [
    "Notice that we were able to reuse the constraint-satisfaction problem-solving framework\n",
    "that we built for map coloring fairly easily for a completely different type of\n",
    "problem. This is the power of writing code generically! Algorithms should be implemented\n",
    "in as broadly applicable a manner as possible unless a performance optimization\n",
    "for a particular application requires specialization.\n",
    "\n",
    "Lets run the code"
   ]
  },
  {
   "cell_type": "code",
   "execution_count": 8,
   "metadata": {},
   "outputs": [
    {
     "name": "stdout",
     "output_type": "stream",
     "text": [
      "{1: 1, 2: 5, 3: 8, 4: 6, 5: 3, 6: 7, 7: 2, 8: 4}\n"
     ]
    }
   ],
   "source": [
    "columns = [1, 2, 3, 4, 5, 6, 7, 8]\n",
    "rows = {}\n",
    "\n",
    "for column in columns:\n",
    "    rows[column] = [1, 2, 3, 4, 5, 6, 7, 8]\n",
    "csp = CSP(columns, rows)\n",
    "csp.add_constraint(QueensConstraint(columns))\n",
    "\n",
    "solution = csp.backtracking_search()\n",
    "if solution is None:\n",
    "    print(\"No solution found!\")\n",
    "else:\n",
    "    print(solution)"
   ]
  },
  {
   "cell_type": "markdown",
   "metadata": {},
   "source": [
    "A correct solution will assign a column and row to every queen."
   ]
  }
 ],
 "metadata": {
  "kernelspec": {
   "display_name": "Python 3",
   "language": "python",
   "name": "python3"
  },
  "language_info": {
   "codemirror_mode": {
    "name": "ipython",
    "version": 3
   },
   "file_extension": ".py",
   "mimetype": "text/x-python",
   "name": "python",
   "nbconvert_exporter": "python",
   "pygments_lexer": "ipython3",
   "version": "3.7.6"
  }
 },
 "nbformat": 4,
 "nbformat_minor": 4
}
