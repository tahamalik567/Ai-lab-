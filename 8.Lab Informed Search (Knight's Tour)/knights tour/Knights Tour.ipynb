{
 "cells": [
  {
   "cell_type": "markdown",
   "metadata": {},
   "source": [
    "# Knight's Tour Problem\n",
    "\n",
    "An interesting puzzler for chess buffs is the Knight’s Tour problem, originally proposed by the\n",
    "mathematician Euler. Can the knight piece move around an empty chessboard and touch\n",
    "each of the 64 squares once and only once? \n",
    "\n",
    "\n",
    "The knight makes only L-shaped moves (two spaces in one direction and one space\n",
    "in a perpendicular direction). Thus, as shown in the figure below, from a square near the\n",
    "middle of an empty chessboard, the knight (labeled K) can make eight different moves\n",
    "(numbered 0 through 7)."
   ]
  },
  {
   "attachments": {
    "moves.png": {
     "image/png": "[encoded data removed]"
    }
   },
   "cell_type": "markdown",
   "metadata": {},
   "source": [
    "![moves.png](attachment:moves.png)"
   ]
  },
  {
   "cell_type": "markdown",
   "metadata": {},
   "source": [
    "Now let’s develop a script that will move the knight around a chessboard represented\n",
    "by an eight-by-eight two-dimensional array named board. Initialize\n",
    "each square to zero. We describe each of the eight possible moves in terms of\n",
    "its horizontal and vertical components. For example, a move of type 0, as\n",
    "shown in the preceding figure, consists of moving two squares horizontally to\n",
    "the right and one square vertically upward. A move of type 2 consists of moving\n",
    "one square horizontally to the left and two squares vertically upward. Horizontal\n",
    "moves to the left and vertical moves upward are indicated with negative\n",
    "numbers. The eight moves may be described by two one-dimensional arrays,\n",
    "horizontal and vertical, as follows:"
   ]
  },
  {
   "cell_type": "code",
   "execution_count": 1,
   "metadata": {},
   "outputs": [],
   "source": [
    "import numpy as np\n",
    "import random \n",
    "\n",
    "board = np.zeros((8,8), dtype = np.int8)\n",
    "current_row = np.random.randint(0,7)\n",
    "current_col = np.random.randint(0,7)\n",
    "board[current_row, current_col] = 1\n",
    "\n",
    "\n",
    "horizontal = [2, 1, -1, -2, -2, -1, 1, 2]\n",
    "vertical = [-1, -2, -2, -1, 1, 2, 2, 1]\n",
    "\n"
   ]
  },
  {
   "cell_type": "markdown",
   "metadata": {},
   "source": [
    "Develop a functhon to print the board"
   ]
  },
  {
   "cell_type": "code",
   "execution_count": 2,
   "metadata": {},
   "outputs": [],
   "source": [
    "def print_board(board):\n",
    "    for row in board:\n",
    "        #print(\"-\"*24)\n",
    "        for col in row:\n",
    "            print(f\" {col:02d} \",end=\"\")\n",
    "        print(\"\\n\")\n",
    "            "
   ]
  },
  {
   "cell_type": "code",
   "execution_count": 3,
   "metadata": {
    "scrolled": true
   },
   "outputs": [
    {
     "name": "stdout",
     "output_type": "stream",
     "text": [
      " 00  00  01  00  00  00  00  00 \n",
      "\n",
      " 00  00  00  00  00  00  00  00 \n",
      "\n",
      " 00  00  00  00  00  00  00  00 \n",
      "\n",
      " 00  00  00  00  00  00  00  00 \n",
      "\n",
      " 00  00  00  00  00  00  00  00 \n",
      "\n",
      " 00  00  00  00  00  00  00  00 \n",
      "\n",
      " 00  00  00  00  00  00  00  00 \n",
      "\n",
      " 00  00  00  00  00  00  00  00 \n",
      "\n"
     ]
    }
   ],
   "source": [
    "#print(\"initial board state\")\n",
    "print_board(board)"
   ]
  },
  {
   "cell_type": "markdown",
   "metadata": {},
   "source": [
    "The following function moves the Knight around the board. "
   ]
  },
  {
   "cell_type": "code",
   "execution_count": 4,
   "metadata": {},
   "outputs": [],
   "source": [
    "def move(move_number,current_row,current_col):\n",
    "    new_row = current_row + vertical[move_number]\n",
    "    new_col = current_col + horizontal[move_number]\n",
    "\n",
    "    return new_row, new_col\n"
   ]
  },
  {
   "cell_type": "markdown",
   "metadata": {},
   "source": [
    "The following function checks whether or not a move is valid:"
   ]
  },
  {
   "cell_type": "code",
   "execution_count": 5,
   "metadata": {},
   "outputs": [],
   "source": [
    "def validMoves(board,current_row,current_col):\n",
    "    valid_moves = []\n",
    "    for move_number in range(8):\n",
    "        new_row, new_col = move(move_number,current_row,current_col)\n",
    "        #print(f\"new position state:{board[new_row,new_col]}\")\n",
    "        #print(type(board[new_row,new_col]))\n",
    "        if new_row >= 0 and new_row < 8 and new_col >= 0 and new_col < 8 and board[new_row,new_col] == 0:\n",
    "            valid_moves.append(move_number)\n",
    "    return valid_moves\n"
   ]
  },
  {
   "cell_type": "markdown",
   "metadata": {},
   "source": [
    "Lets test these functions"
   ]
  },
  {
   "cell_type": "code",
   "execution_count": 6,
   "metadata": {},
   "outputs": [
    {
     "name": "stdout",
     "output_type": "stream",
     "text": [
      " 00  00  01  00  00  00  00  00 \n",
      "\n",
      " 00  00  00  00  00  00  00  00 \n",
      "\n",
      " 00  00  00  00  00  00  00  00 \n",
      "\n",
      " 00  00  00  00  00  00  00  00 \n",
      "\n",
      " 00  00  00  00  00  00  00  00 \n",
      "\n",
      " 00  00  00  00  00  00  00  00 \n",
      "\n",
      " 00  00  00  00  00  00  00  00 \n",
      "\n",
      " 00  00  00  00  00  00  00  00 \n",
      "\n",
      "Current row and column: 0 2\n",
      "Valid moves from this position: [4, 5, 6, 7]\n"
     ]
    }
   ],
   "source": [
    "print_board(board)\n",
    "print(\"Current row and column:\", current_row,current_col)\n",
    "print(\"Valid moves from this position:\", validMoves(board,current_row,current_col))  "
   ]
  },
  {
   "cell_type": "code",
   "execution_count": 7,
   "metadata": {},
   "outputs": [
    {
     "name": "stdout",
     "output_type": "stream",
     "text": [
      "Tour not Complete: No moves possible after 37 moves\n",
      "Random Choice:\n",
      "\n",
      " 00  22  01  28  00  00  25  00 \n",
      "\n",
      " 00  33  30  23  02  27  00  00 \n",
      "\n",
      " 21  00  03  32  29  24  00  26 \n",
      "\n",
      " 34  31  00  19  04  07  00  00 \n",
      "\n",
      " 00  20  00  12  00  00  05  00 \n",
      "\n",
      " 00  35  18  00  06  11  08  15 \n",
      "\n",
      " 37  00  00  10  13  16  00  00 \n",
      "\n",
      " 00  00  36  17  00  09  14  00 \n",
      "\n"
     ]
    }
   ],
   "source": [
    "for i in range(2,65):\n",
    "    # find all valid moves from the current position\n",
    "    valid_moves = validMoves(board, current_row,current_col)\n",
    "    if valid_moves == []:\n",
    "        # exit if no valid moves are possible\n",
    "        print(f\"Tour not Complete: No moves possible after {i-1} moves\")\n",
    "        break\n",
    "    else:\n",
    "        selected_move = random.choice(valid_moves) # randomly select a move index\n",
    "        # apply the selected move\n",
    "        current_row,current_col = move(selected_move, current_row,current_col)\n",
    "        # write the write the count on the board\n",
    "        board[current_row,current_col]=i\n",
    "    if i == 64:\n",
    "        print(f\"Tour Completed\")\n",
    "print(\"Random Choice:\\n\")\n",
    "print_board(board)"
   ]
  },
  {
   "cell_type": "markdown",
   "metadata": {},
   "source": [
    "## Accessiblity Heuristic\n",
    "\n",
    "You may have observed that the outer squares are more troublesome than\n",
    "the squares nearer the center of the board. In fact, the most troublesome or inaccessible\n",
    "squares are the four corners.\n",
    "\n",
    "Intuition may suggest that you should attempt to move the knight to the\n",
    "most troublesome squares first and leave open those that are easiest to get to so\n",
    "that when the board gets congested near the end of the tour, there will be a\n",
    "greater chance of success.\n",
    "\n",
    "We could develop an “accessibility heuristic” by classifying each of the\n",
    "squares according to how accessible it is and always moving the knight (using the knight’s L-shaped moves) to the most inaccessible square. We fill two dimensional\n",
    "array accessibility with numbers indicating from how many\n",
    "squares each particular square is accessible. On a blank chessboard, each of the\n",
    "16 squares nearest the center is rated as 8, each corner square is rated as 2, and\n",
    "the other squares have accessibility numbers of 3, 4 or 6 as follows:"
   ]
  },
  {
   "attachments": {
    "accessiblity.png": {
     "image/png": "[encoded data removed]"
    }
   },
   "cell_type": "markdown",
   "metadata": {},
   "source": [
    "![accessiblity.png](attachment:accessiblity.png)"
   ]
  },
  {
   "cell_type": "code",
   "execution_count": 8,
   "metadata": {},
   "outputs": [],
   "source": [
    "def accessibility(board):\n",
    "    #calculate accessibility of each cell \n",
    "    heuristic = np.zeros((8,8), dtype = np.int8)\n",
    "    for row in range(0,8):\n",
    "        for col in range(0,8):\n",
    "            #print(col)\n",
    "            heuristic[row,col] = len(validMoves(board, row, col))\n",
    "    return heuristic\n",
    "\n",
    "def valid_move_accessibity(accessiblity_boad,valid_moves,current_row,current_col):\n",
    "    #calculate accessibility after execution of valid moves \n",
    "    accessibility = []\n",
    "    for m in valid_moves:\n",
    "        new_row, new_col = move(m,current_row,current_col)\n",
    "        accessibility.append(accessiblity_boad[new_row,new_col])\n",
    "    return accessibility    \n"
   ]
  },
  {
   "cell_type": "markdown",
   "metadata": {},
   "source": [
    "Lets test these functions"
   ]
  },
  {
   "cell_type": "code",
   "execution_count": 9,
   "metadata": {
    "scrolled": true
   },
   "outputs": [
    {
     "name": "stdout",
     "output_type": "stream",
     "text": [
      "Current Board:\n",
      " 00  22  01  28  00  00  25  00 \n",
      "\n",
      " 00  33  30  23  02  27  00  00 \n",
      "\n",
      " 21  00  03  32  29  24  00  26 \n",
      "\n",
      " 34  31  00  19  04  07  00  00 \n",
      "\n",
      " 00  20  00  12  00  00  05  00 \n",
      "\n",
      " 00  35  18  00  06  11  08  15 \n",
      "\n",
      " 37  00  00  10  13  16  00  00 \n",
      "\n",
      " 00  00  36  17  00  09  14  00 \n",
      "\n",
      "\n",
      " Accessiblity:\n",
      " 01  00  02  00  01  02  00  01 \n",
      "\n",
      " 00  01  02  03  01  02  02  02 \n",
      "\n",
      " 01  03  01  03  05  04  04  00 \n",
      "\n",
      " 01  02  03  02  03  02  02  02 \n",
      "\n",
      " 03  02  03  01  02  04  01  02 \n",
      "\n",
      " 03  02  03  04  03  04  03  02 \n",
      "\n",
      " 00  03  03  03  01  03  03  00 \n",
      "\n",
      " 01  01  01  01  03  01  00  00 \n",
      "\n"
     ]
    }
   ],
   "source": [
    "print(\"Current Board:\")\n",
    "print_board(board)\n",
    "print(\"\\n Accessiblity:\")\n",
    "print_board(accessibility(board))\n"
   ]
  },
  {
   "cell_type": "code",
   "execution_count": 10,
   "metadata": {},
   "outputs": [
    {
     "name": "stdout",
     "output_type": "stream",
     "text": [
      "Test Board:\n",
      " 00  00  00  00  00  00  00  00 \n",
      "\n",
      " 00  00  00  00  00  00  00  00 \n",
      "\n",
      " 00  00  00  00  00  00  00  00 \n",
      "\n",
      " 00  00  00  00  00  00  00  00 \n",
      "\n",
      " 00  00  00  00  00  00  00  00 \n",
      "\n",
      " 00  00  00  00  00  00  00  00 \n",
      "\n",
      " 00  00  00  00  00  00  00  00 \n",
      "\n",
      " 00  00  00  00  00  00  00  00 \n",
      "\n",
      "Accessibility of Test Board:\n",
      " 02  03  04  04  04  04  03  02 \n",
      "\n",
      " 03  04  06  06  06  06  04  03 \n",
      "\n",
      " 04  06  08  08  08  08  06  04 \n",
      "\n",
      " 04  06  08  08  08  08  06  04 \n",
      "\n",
      " 04  06  08  08  08  08  06  04 \n",
      "\n",
      " 04  06  08  08  08  08  06  04 \n",
      "\n",
      " 03  04  06  06  06  06  04  03 \n",
      "\n",
      " 02  03  04  04  04  04  03  02 \n",
      "\n"
     ]
    }
   ],
   "source": [
    "test_board = np.zeros((8,8), dtype = np.int8)\n",
    "\n",
    "print(\"Test Board:\")\n",
    "print_board(test_board)\n",
    "print(\"Accessibility of Test Board:\" ) \n",
    "print_board(accessibility(test_board))"
   ]
  },
  {
   "cell_type": "markdown",
   "metadata": {},
   "source": [
    "Lets solve the problem by using the accessiblity heuristic"
   ]
  },
  {
   "cell_type": "code",
   "execution_count": 13,
   "metadata": {},
   "outputs": [
    {
     "name": "stdout",
     "output_type": "stream",
     "text": [
      " 00  00  00  00  00  00  00  00 \n",
      "\n",
      " 00  00  00  00  00  00  00  00 \n",
      "\n",
      " 00  00  00  00  00  00  00  00 \n",
      "\n",
      " 00  00  00  00  00  00  00  00 \n",
      "\n",
      " 00  00  00  00  00  00  00  00 \n",
      "\n",
      " 00  00  00  00  00  00  00  00 \n",
      "\n",
      " 00  00  01  00  00  00  00  00 \n",
      "\n",
      " 00  00  00  00  00  00  00  00 \n",
      "\n"
     ]
    }
   ],
   "source": [
    "del board # delete the existing bard and initialize a new one \n",
    "\n",
    "board = np.zeros((8,8), dtype = np.int8)\n",
    "current_row = np.random.randint(0,7)\n",
    "current_col = np.random.randint(0,7)\n",
    "board[current_row, current_col] = 1\n",
    "\n",
    "print_board(board)"
   ]
  },
  {
   "cell_type": "code",
   "execution_count": 14,
   "metadata": {},
   "outputs": [
    {
     "name": "stdout",
     "output_type": "stream",
     "text": [
      "Tour Completed\n",
      "Min Acess:\n",
      "\n",
      " 39  20  23  06  41  10  25  08 \n",
      "\n",
      " 22  05  40  37  24  07  44  11 \n",
      "\n",
      " 19  38  21  58  45  42  09  26 \n",
      "\n",
      " 04  59  36  55  50  47  12  43 \n",
      "\n",
      " 35  18  57  46  63  54  27  48 \n",
      "\n",
      " 60  03  64  51  56  49  30  13 \n",
      "\n",
      " 17  34  01  62  15  32  53  28 \n",
      "\n",
      " 02  61  16  33  52  29  14  31 \n",
      "\n"
     ]
    }
   ],
   "source": [
    "for i in range(2,65):\n",
    "    valid_moves = validMoves(board, current_row,current_col)\n",
    "    if valid_moves == []:\n",
    "        print(f\"Tour Incomplete: No moves possible after {i-1} moves\")\n",
    "        break\n",
    "    else:\n",
    "        h = accessibility(board) \n",
    "        valid_h = valid_move_accessibity(h,valid_moves,current_row,current_col)\n",
    "        selected_move = valid_moves[valid_h.index(min(valid_h))] \n",
    "        current_row, current_col = move(selected_move, current_row,current_col)\n",
    "        board[current_row,current_col]=i\n",
    "    if i == 64:\n",
    "        print(f\"Tour Completed\")\n",
    "        \n",
    "print(\"Min Acess:\\n\")\n",
    "print_board(board)"
   ]
  },
  {
   "cell_type": "code",
   "execution_count": null,
   "metadata": {},
   "outputs": [],
   "source": []
  },
  {
   "cell_type": "code",
   "execution_count": null,
   "metadata": {},
   "outputs": [],
   "source": []
  }
 ],
 "metadata": {
  "kernelspec": {
   "display_name": "Python 3",
   "language": "python",
   "name": "python3"
  },
  "language_info": {
   "codemirror_mode": {
    "name": "ipython",
    "version": 3
   },
   "file_extension": ".py",
   "mimetype": "text/x-python",
   "name": "python",
   "nbconvert_exporter": "python",
   "pygments_lexer": "ipython3",
   "version": "3.7.3"
  }
 },
 "nbformat": 4,
 "nbformat_minor": 4
}
